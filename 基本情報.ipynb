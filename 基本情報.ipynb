{
 "cells": [
  {
   "cell_type": "markdown",
   "metadata": {},
   "source": [
    "### 第一章"
   ]
  },
  {
   "cell_type": "markdown",
   "metadata": {},
   "source": [
    "リトルエンディアン方式、ビッグエンディアン方式？？？"
   ]
  },
  {
   "cell_type": "markdown",
   "metadata": {},
   "source": [
    "論理演算  \n",
    "and or xor not  \n",
    "MIL記号は、論理回路を設計するときに使う記号？？？"
   ]
  },
  {
   "cell_type": "markdown",
   "metadata": {},
   "source": [
    "ビット演算  \n",
    "算術演算と論理演算  \n",
    "算術演算は加算のみ  \n",
    "乗算除算はシフト演算  \n",
    "　論理シフトと算術シフトもあります\n",
    "乗算は左シフト  \n",
    "除算は右シフト  "
   ]
  },
  {
   "cell_type": "markdown",
   "metadata": {},
   "source": [
    "論理演算  \n",
    "AND OR　など"
   ]
  },
  {
   "cell_type": "markdown",
   "metadata": {},
   "source": [
    "演算誤差 有効桁数→信頼できる桁数  \n",
    "桁落ち  (有効桁数が減少)  \n",
    "情報落ち (大数+少数の場合)  \n",
    "丸目誤差　(四捨五入)  \n",
    "打切り誤差　(単純な打切り例3.14)  \n",
    "オーバーフロー  \n",
    "アンダーフロー  \n",
    "上限を超える誤差 2桁→100→0  \n",
    "下限を超える誤差  整数→0.1→0  "
   ]
  },
  {
   "cell_type": "markdown",
   "metadata": {},
   "source": [
    "### 第二章"
   ]
  },
  {
   "cell_type": "markdown",
   "metadata": {},
   "source": [
    "組合せ回路と順序回路  \n",
    "フリップフロップ（順序回路の過去入力を記憶するやつ）\n",
    "rs-ff d-ff t-ff jk-ff rst-ff  \n",
    "カウンタ\n",
    "カウンタコントローラ  \n",
    "2進カウンタ  \n",
    "10進カウンタ  \n",
    "タイマコントローラ  \n",
    "ワンショットタイマ\n",
    "インターバルタイマ\n",
    "リアルタイムクロック\n",
    "ウォッチドックタイマ\n",
    "\n",
    "ラッチ回路  "
   ]
  },
  {
   "cell_type": "markdown",
   "metadata": {},
   "source": [
    "データや信号を一定の規則で符号化  \n",
    "目的は、正確化迅速化  \n",
    "パリティチェック方式  \n",
    "偶数パリティチェック  \n",
    "奇数パリティチェック  \n",
    "CRC方式  \n",
    "ハミング方式  \n",
    "チェックディジット  \n"
   ]
  },
  {
   "cell_type": "markdown",
   "metadata": {},
   "source": [
    "応用数学は特になし"
   ]
  },
  {
   "cell_type": "markdown",
   "metadata": {},
   "source": [
    "デジタル&アナログ  \n",
    "AD変換　DA変換　センサ・アクチュエータ  \n",
    "センサ（物理信号を電気信号）  \n",
    "アクチュエータ（電気信号を物理信号）  \n",
    "    電気式、有圧式、空気圧式  \n",
    "AD変換、サンプリングレート、ビットレート  \n",
    "DA変換、セトリングタイム"
   ]
  },
  {
   "cell_type": "markdown",
   "metadata": {},
   "source": []
  },
  {
   "cell_type": "markdown",
   "metadata": {},
   "source": []
  },
  {
   "cell_type": "markdown",
   "metadata": {},
   "source": []
  },
  {
   "cell_type": "markdown",
   "metadata": {},
   "source": []
  },
  {
   "cell_type": "markdown",
   "metadata": {},
   "source": []
  },
  {
   "cell_type": "markdown",
   "metadata": {},
   "source": []
  },
  {
   "cell_type": "markdown",
   "metadata": {},
   "source": []
  },
  {
   "cell_type": "markdown",
   "metadata": {},
   "source": []
  },
  {
   "cell_type": "markdown",
   "metadata": {},
   "source": []
  },
  {
   "cell_type": "markdown",
   "metadata": {},
   "source": []
  }
 ],
 "metadata": {
  "kernelspec": {
   "display_name": "Python 3",
   "language": "python",
   "name": "python3"
  },
  "language_info": {
   "codemirror_mode": {
    "name": "ipython",
    "version": 3
   },
   "file_extension": ".py",
   "mimetype": "text/x-python",
   "name": "python",
   "nbconvert_exporter": "python",
   "pygments_lexer": "ipython3",
   "version": "3.6.5"
  }
 },
 "nbformat": 4,
 "nbformat_minor": 2
}
