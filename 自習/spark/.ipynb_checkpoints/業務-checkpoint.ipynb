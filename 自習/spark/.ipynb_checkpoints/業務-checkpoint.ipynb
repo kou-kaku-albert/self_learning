{
 "cells": [
  {
   "cell_type": "markdown",
   "metadata": {},
   "source": [
    "https://www.au.com/entertainment/?bid=we-com-autoplu-0008"
   ]
  },
  {
   "cell_type": "markdown",
   "metadata": {},
   "source": [
    "auスマートパス"
   ]
  },
  {
   "cell_type": "markdown",
   "metadata": {},
   "source": [
    "## エンタメ"
   ]
  },
  {
   "cell_type": "markdown",
   "metadata": {},
   "source": [
    "ビデオぱす  \n",
    "歌パス  \n",
    "ブックパス  \n",
    "ディズニーパス  \n",
    "グルメパス  　　\n",
    "ニュースパス  "
   ]
  },
  {
   "cell_type": "markdown",
   "metadata": {},
   "source": [
    "スマートパス\n",
    "あんしん\n",
    "快適なスマホライフを支える「あんしん」をご提供！"
   ]
  },
  {
   "cell_type": "markdown",
   "metadata": {},
   "source": [
    "ビデオ  \n",
    "1、\n",
    "映画やドラマ・アニメも！auの映像配信サービス  \n",
    "ビデオパス見放題プラン会員になると、見放題作品だけでなく、毎月付与されるビデオコイン (540円相当) で最新レンタル作品も楽しめます。  \n",
    "2、スマホ、タブレット、パソコン、TVとマルチデバイスに対応！外出先でも自宅でも気軽に楽しめる！\n",
    "テレビなら、より大画面・高画質で楽しめる！\n",
    "テレビでのご利用には、Smart TV Box、Smart TV Stick、STW2000、Chromecast、Apple TV、ビデオパス対応テレビのいずれかが必要です。\n",
    "\n",
    "Chromecast以外のTVデバイスはau IDのみご利用可能です。\n",
    "\n",
    "3、\n",
    "映画館での劇場鑑賞券割引や、話題作がいち早く見られる試写会プレゼントなど、ビデオパス会員向けの特典も充実♪"
   ]
  },
  {
   "cell_type": "markdown",
   "metadata": {},
   "source": [
    "歌  \n",
    "4000以上のプレイリストが聴き放題！  \n",
    "さらに聴き放題プランMyうたプラスなら毎月10曲ずつ好きな曲が保存できる！  \n",
    "au以外の方もうたパスをWow!IDで使えるようになりました！  "
   ]
  },
  {
   "cell_type": "markdown",
   "metadata": {},
   "source": [
    "ブックパス  \n",
    "ブックパスはコミック、雑誌、小説、実用書、写真集など多彩なジャンルが楽しめる電子書籍サービス！  \n",
    "au以外の方でもご利用可能！欲しい本だけ買えるのは勿論、定額でお得な読み放題プランや無料コミックもあります。  "
   ]
  },
  {
   "cell_type": "markdown",
   "metadata": {},
   "source": [
    "ニュースパス  \n",
    "月額情報料無料・申し込み不要で見られるauのニュースアプリ！"
   ]
  },
  {
   "cell_type": "markdown",
   "metadata": {},
   "source": [
    "グルメパス  \n",
    "レストランの人気ランキングやワンコインランチ・プレミアムクーポンが利用可能！"
   ]
  },
  {
   "cell_type": "markdown",
   "metadata": {},
   "source": [
    "ディズニーパスでは、コンテンツサービスと限定カバー＆コンテンツセットをご用意しています。\n",
    "\n",
    "ディズニーランドに行けるサービスじゃなくて、ディズニーに関わる動画閲覧や、もの販売など\n"
   ]
  },
  {
   "cell_type": "markdown",
   "metadata": {},
   "source": [
    "https://pass.auone.jp/app/"
   ]
  },
  {
   "cell_type": "markdown",
   "metadata": {},
   "source": [
    "アプリもたくさん  \n",
    "例えばニュースパスはアプリに依存する。  "
   ]
  },
  {
   "cell_type": "markdown",
   "metadata": {},
   "source": [
    "### AUインターネット"
   ]
  },
  {
   "cell_type": "markdown",
   "metadata": {},
   "source": [
    "スローガン：戸建ても、集合住宅も。どっちも高速通信で快適！  \n",
    "\n",
    " "
   ]
  },
  {
   "cell_type": "markdown",
   "metadata": {},
   "source": [
    "じゃ、大きく分けて、2種類のプランがあるはず、  \n",
    "戸建てと、集合住宅  \n",
    "特典たくさん  \n",
    "キャッシュバックとか  \n"
   ]
  },
  {
   "cell_type": "markdown",
   "metadata": {},
   "source": [
    "### AUショッピング"
   ]
  },
  {
   "cell_type": "markdown",
   "metadata": {},
   "source": [
    "ワウマというECサイト  \n",
    "AU電子マネーで払えます  \n"
   ]
  },
  {
   "cell_type": "markdown",
   "metadata": {},
   "source": []
  },
  {
   "cell_type": "markdown",
   "metadata": {},
   "source": []
  },
  {
   "cell_type": "markdown",
   "metadata": {},
   "source": []
  }
 ],
 "metadata": {
  "kernelspec": {
   "display_name": "Python 3",
   "language": "python",
   "name": "python3"
  },
  "language_info": {
   "codemirror_mode": {
    "name": "ipython",
    "version": 3
   },
   "file_extension": ".py",
   "mimetype": "text/x-python",
   "name": "python",
   "nbconvert_exporter": "python",
   "pygments_lexer": "ipython3",
   "version": "3.6.5"
  }
 },
 "nbformat": 4,
 "nbformat_minor": 2
}
