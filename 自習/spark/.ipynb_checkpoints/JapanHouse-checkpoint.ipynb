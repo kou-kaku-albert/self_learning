{
 "cells": [
  {
   "cell_type": "markdown",
   "metadata": {},
   "source": [
    "### 東京住宅価格予測  \n",
    "前述  \n",
    "ボストン住宅価格予測というプロジェクトは非常に有名です。  \n",
    "ボストンではなくて、東京住宅価格も予測してみたいです。  \n",
    "東京住宅価格を予測するメリット：  \n",
    "1、東京住宅価格のデータは、比較的に綺麗ではない、加工する必要のあるデータです。  \n",
    "2、東京住宅の特徴量はもっと複雑です。(容積率、間取りなど)  \n",
    "3、pysparkで処理するため、プロジェクトをやる際に、Pysparkの書き方なども習得できます。  \n",
    "上記3点で、いい練習材料だと思います 。"
   ]
  },
  {
   "cell_type": "markdown",
   "metadata": {},
   "source": [
    "## データ観察"
   ]
  },
  {
   "cell_type": "code",
   "execution_count": 1,
   "metadata": {},
   "outputs": [],
   "source": [
    "import pandas as pd\n",
    "import numpy as np\n",
    "import matplotlib.pyplot as plt"
   ]
  },
  {
   "cell_type": "code",
   "execution_count": 2,
   "metadata": {},
   "outputs": [],
   "source": [
    "from pyspark.sql.functions import avg"
   ]
  },
  {
   "cell_type": "code",
   "execution_count": 3,
   "metadata": {},
   "outputs": [],
   "source": [
    "import findspark \n",
    "findspark.init()\n",
    "from pyspark import SparkConf,SparkContext\n",
    "from pyspark.sql import SparkSession\n",
    "from pyspark.sql.functions import col\n",
    "from pyspark.sql.functions import udf\n",
    "from pyspark.sql.functions import when\n",
    "from pyspark.sql.functions import avg\n",
    "from pyspark.sql.types import *\n",
    "\n",
    "spark = SparkSession.builder.appName(\"Spark ML example on titanic data\").getOrCreate()\n"
   ]
  },
  {
   "cell_type": "code",
   "execution_count": 4,
   "metadata": {},
   "outputs": [
    {
     "name": "stdout",
     "output_type": "stream",
     "text": [
      "+---+---------+---+-------+-----+-----+---+------+------+---------+----+----+---+------+-----+---+----+-----+-----+---------+-------+-------+-------+-------+----+----+---+----------+----+------+\n",
      "| No|       種類| 地域|市区町村コード|都道府県名|市区町村名|地区名|最寄駅：名称|最寄駅：距離|    取引価格9| 坪単価| 間取り| 面積|取引価格13|土地の形状| 間口|延床面積|  建築年|建物の構造|       用途|今後の利用目的|前面道路：方位|前面道路：種類|前面道路：幅員|都市計画|建ぺい率|容積率|      取引時点|  改装|取引の事情等|\n",
      "+---+---------+---+-------+-----+-----+---+------+------+---------+----+----+---+------+-----+---+----+-----+-----+---------+-------+-------+-------+-------+----+----+---+----------+----+------+\n",
      "|  1|宅地(土地と建物)|商業地|  13101|  東京都| 千代田区|飯田橋|   飯田橋|     3|250000000|null|null| 80|  null| ほぼ台形|6.8| 330|昭和61年|   ＲＣ|住宅、事務所、店舗|    事務所|     南西|     区道|    8.0|商業地域|  80|500|平成30年第２四半期|null|  null|\n",
      "+---+---------+---+-------+-----+-----+---+------+------+---------+----+----+---+------+-----+---+----+-----+-----+---------+-------+-------+-------+-------+----+----+---+----------+----+------+\n",
      "only showing top 1 row\n",
      "\n"
     ]
    }
   ],
   "source": [
    "path_and_file = './data_japan_house/13_Tokyo_20161_20182.csv'\n",
    "sdf_tokyo = spark.read.csv(path_and_file,header='True',inferSchema='True',encoding='SHIFT-JIS')\n",
    "sdf_tokyo.show(1)"
   ]
  },
  {
   "cell_type": "code",
   "execution_count": 5,
   "metadata": {},
   "outputs": [
    {
     "name": "stdout",
     "output_type": "stream",
     "text": [
      "+---+---------+----+-------+-----+------+---+------+------+--------+------+------+---+------+-----+----+----+-----+-----+----+-------+-------+-------+-------+-----+----+---+----------+----+------+\n",
      "| No|       種類|  地域|市区町村コード|都道府県名| 市区町村名|地区名|最寄駅：名称|最寄駅：距離|   取引価格9|   坪単価|   間取り| 面積|取引価格13|土地の形状|  間口|延床面積|  建築年|建物の構造|  用途|今後の利用目的|前面道路：方位|前面道路：種類|前面道路：幅員| 都市計画|建ぺい率|容積率|      取引時点|  改装|取引の事情等|\n",
      "+---+---------+----+-------+-----+------+---+------+------+--------+------+------+---+------+-----+----+----+-----+-----+----+-------+-------+-------+-------+-----+----+---+----------+----+------+\n",
      "|  1|宅地(土地と建物)| 住宅地|  14101| 神奈川県|横浜市鶴見区|朝日町|    浅野|    11|36000000|  null|  null| 60|  null|  長方形| 5.5|  95|平成29年|   木造|  住宅|     住宅|      南|     私道|    4.2|準工業地域|  60|200|平成29年第４四半期|null|  null|\n",
      "|  2|宅地(土地と建物)| 住宅地|  14101| 神奈川県|横浜市鶴見区|朝日町|    浅野|    11|31000000|  null|  null| 50|  null|  長方形| 3.6|  85|平成29年|   木造|  住宅|     住宅|      東|     市道|    4.2|準工業地域|  60|200|平成29年第３四半期|null|  null|\n",
      "|  3| 中古マンション等|null|  14101| 神奈川県|横浜市鶴見区|朝日町|    浅野|     6|24000000|  null|  ４ＬＤＫ| 85|  null| null|null|null| null|   ＲＣ|  住宅|     住宅|   null|   null|   null|準工業地域|  60|200|平成29年第３四半期|null|  null|\n",
      "|  4| 中古マンション等|null|  14101| 神奈川県|横浜市鶴見区|朝日町|    浅野|     6|25000000|  null|  ４ＬＤＫ| 80|  null| null|null|null| 平成元年|   ＲＣ|null|     住宅|   null|   null|   null|準工業地域|  60|200|平成29年第３四半期| 未改装|  null|\n",
      "|  5| 中古マンション等|null|  14101| 神奈川県|横浜市鶴見区|朝日町|    安善|    11|27000000|  null|  ３ＬＤＫ| 70|  null| null|null|null|昭和58年|   ＲＣ|null|     住宅|   null|   null|   null|準工業地域|  60|200|平成30年第１四半期|null|  null|\n",
      "|  6|   宅地(土地)| 住宅地|  14101| 神奈川県|横浜市鶴見区|朝日町|    安善|    10|11000000|420000|  null| 80|130000|  長方形|   9|null| null| null|null|     住宅|  接面道路無|   null|   null|準工業地域|  60|200|平成29年第４四半期|null| 隣地の購入|\n",
      "|  7| 中古マンション等|null|  14101| 神奈川県|横浜市鶴見区|朝日町|    安善|    11|27000000|  null|  ２ＬＤＫ| 60|  null| null|null|null|昭和58年|   ＲＣ|null|     住宅|   null|   null|   null|準工業地域|  60|200|平成29年第４四半期| 改装済|  null|\n",
      "|  8|宅地(土地と建物)| 住宅地|  14101| 神奈川県|横浜市鶴見区|朝日町|    安善|     8|30000000|  null|  null| 50|  null|ほぼ長方形|   5|  85|平成22年|   木造|  住宅|     住宅|     南東|     市道|    3.9|準工業地域|  60|200|平成29年第３四半期|null|  null|\n",
      "|  9|宅地(土地と建物)| 住宅地|  14101| 神奈川県|横浜市鶴見区|朝日町|    安善|     9|31000000|  null|  null| 50|  null|ほぼ長方形| 5.5|  80|平成29年|   木造|  住宅|     住宅|      西|     市道|    4.5|準工業地域|  60|200|平成29年第３四半期|null|  null|\n",
      "| 10|宅地(土地と建物)| 住宅地|  14101| 神奈川県|横浜市鶴見区|朝日町|    安善|    12|33000000|  null|  null| 60|  null|ほぼ長方形|null|  90|平成29年|   木造|  住宅|     住宅|     北東|     私道|    4.5|準工業地域|  60|200|平成29年第３四半期|null|  null|\n",
      "| 11| 中古マンション等|null|  14101| 神奈川県|横浜市鶴見区|朝日町|    安善|    11|18000000|  null|  ３ＬＤＫ| 70|  null| null|null|null|昭和58年|   ＲＣ|  住宅|    その他|   null|   null|   null|準工業地域|  60|200|平成29年第２四半期| 未改装|  null|\n",
      "| 12| 中古マンション等|null|  14101| 神奈川県|横浜市鶴見区|朝日町|    安善|    11|25000000|  null|  ３ＬＤＫ| 75|  null| null|null|null|昭和58年|   ＲＣ|  住宅|     住宅|   null|   null|   null|準工業地域|  60|200|平成29年第１四半期| 改装済|  null|\n",
      "| 13| 中古マンション等|null|  14101| 神奈川県|横浜市鶴見区|朝日町|    安善|    11|26000000|  null|  ３ＬＤＫ| 70|  null| null|null|null|昭和58年|   ＲＣ|  住宅|     住宅|   null|   null|   null|準工業地域|  60|200|平成29年第１四半期| 改装済|  null|\n",
      "| 14| 中古マンション等|null|  14101| 神奈川県|横浜市鶴見区|朝日町|    安善|     9|28000000|  null|２ＬＤＫ＋Ｓ| 70|  null| null|null|null|平成15年|   ＲＣ|  住宅|     住宅|   null|   null|   null|準工業地域|  60|200|平成28年第４四半期| 未改装|  null|\n",
      "| 15| 中古マンション等|null|  14101| 神奈川県|横浜市鶴見区|朝日町|    安善|    11|18000000|  null|  ３ＬＤＫ| 65|  null| null|null|null|昭和58年|   ＲＣ|  住宅|     住宅|   null|   null|   null|準工業地域|  60|200|平成28年第４四半期| 未改装|  null|\n",
      "| 16|   宅地(土地)| 住宅地|  14101| 神奈川県|横浜市鶴見区|朝日町|    安善|     9|36000000|860000|  null|140|260000|  長方形|  12|null| null| null|null|     住宅|      南|     市道|    4.5|準工業地域|  60|200|平成28年第３四半期|null|  null|\n",
      "| 17| 中古マンション等|null|  14101| 神奈川県|横浜市鶴見区|朝日町|    安善|     9|25000000|  null|  ３ＬＤＫ| 70|  null| null|null|null|平成15年|   ＲＣ|  住宅|     住宅|   null|   null|   null|準工業地域|  60|200|平成28年第２四半期| 未改装|  null|\n",
      "| 18|宅地(土地と建物)| 住宅地|  14101| 神奈川県|横浜市鶴見区|朝日町|    安善|     9|17000000|  null|  null| 60|  null|  長方形|   6|  70| 平成2年|   木造|共同住宅|   null|      東|     市道|    3.9|準工業地域|  60|200|平成28年第１四半期|null|  null|\n",
      "| 19|宅地(土地と建物)| 工業地|  14101| 神奈川県|横浜市鶴見区|朝日町|    安善|     7|30000000|  null|  null| 65|  null|  袋地等|null|  95|平成28年|   木造|  住宅|     住宅|     南西|     私道|    4.0|準工業地域|  60|200|平成28年第１四半期|null|  null|\n",
      "| 20| 中古マンション等|null|  14101| 神奈川県|横浜市鶴見区|朝日町|    安善|    10|26000000|  null|  ３ＬＤＫ| 90|  null| null|null|null|昭和63年|   ＲＣ|  住宅|     住宅|   null|   null|   null|準工業地域|  60|200|平成28年第１四半期| 改装済|  null|\n",
      "+---+---------+----+-------+-----+------+---+------+------+--------+------+------+---+------+-----+----+----+-----+-----+----+-------+-------+-------+-------+-----+----+---+----------+----+------+\n",
      "only showing top 20 rows\n",
      "\n"
     ]
    }
   ],
   "source": [
    "path_and_file = './data_japan_house/14_Kanagawa Prefecture_20161_20182.csv'\n",
    "sdf_kanagawa = spark.read.csv(path_and_file,header='True',inferSchema='True',encoding='SHIFT-JIS')\n",
    "sdf_kanagawa = sdf_kanagawa.filter(col('市区町村名').contains('横浜')|col('市区町村名').contains('川崎'))\n",
    "sdf_kanagawa.show()"
   ]
  },
  {
   "cell_type": "markdown",
   "metadata": {},
   "source": [
    "東京と神奈川の一部なので、必要なデータをインポートし、結合"
   ]
  },
  {
   "cell_type": "code",
   "execution_count": 6,
   "metadata": {},
   "outputs": [],
   "source": [
    "sdf = sdf_tokyo.unionAll(sdf_kanagawa)"
   ]
  },
  {
   "cell_type": "code",
   "execution_count": 7,
   "metadata": {},
   "outputs": [
    {
     "data": {
      "text/html": [
       "<div>\n",
       "<style scoped>\n",
       "    .dataframe tbody tr th:only-of-type {\n",
       "        vertical-align: middle;\n",
       "    }\n",
       "\n",
       "    .dataframe tbody tr th {\n",
       "        vertical-align: top;\n",
       "    }\n",
       "\n",
       "    .dataframe thead th {\n",
       "        text-align: right;\n",
       "    }\n",
       "</style>\n",
       "<table border=\"1\" class=\"dataframe\">\n",
       "  <thead>\n",
       "    <tr style=\"text-align: right;\">\n",
       "      <th></th>\n",
       "      <th>summary</th>\n",
       "      <th>No</th>\n",
       "      <th>種類</th>\n",
       "      <th>地域</th>\n",
       "      <th>市区町村コード</th>\n",
       "      <th>都道府県名</th>\n",
       "      <th>市区町村名</th>\n",
       "      <th>地区名</th>\n",
       "      <th>最寄駅：名称</th>\n",
       "      <th>最寄駅：距離</th>\n",
       "      <th>...</th>\n",
       "      <th>今後の利用目的</th>\n",
       "      <th>前面道路：方位</th>\n",
       "      <th>前面道路：種類</th>\n",
       "      <th>前面道路：幅員</th>\n",
       "      <th>都市計画</th>\n",
       "      <th>建ぺい率</th>\n",
       "      <th>容積率</th>\n",
       "      <th>取引時点</th>\n",
       "      <th>改装</th>\n",
       "      <th>取引の事情等</th>\n",
       "    </tr>\n",
       "  </thead>\n",
       "  <tbody>\n",
       "    <tr>\n",
       "      <th>0</th>\n",
       "      <td>count</td>\n",
       "      <td>103922</td>\n",
       "      <td>103922</td>\n",
       "      <td>55002</td>\n",
       "      <td>103922</td>\n",
       "      <td>103922</td>\n",
       "      <td>103922</td>\n",
       "      <td>103922</td>\n",
       "      <td>103554</td>\n",
       "      <td>103435</td>\n",
       "      <td>...</td>\n",
       "      <td>94732</td>\n",
       "      <td>55000</td>\n",
       "      <td>54450</td>\n",
       "      <td>54156</td>\n",
       "      <td>103261</td>\n",
       "      <td>102762</td>\n",
       "      <td>102762</td>\n",
       "      <td>103922</td>\n",
       "      <td>43075</td>\n",
       "      <td>6503</td>\n",
       "    </tr>\n",
       "    <tr>\n",
       "      <th>1</th>\n",
       "      <td>mean</td>\n",
       "      <td>31192.466138065087</td>\n",
       "      <td>None</td>\n",
       "      <td>None</td>\n",
       "      <td>13409.291410865842</td>\n",
       "      <td>None</td>\n",
       "      <td>None</td>\n",
       "      <td>None</td>\n",
       "      <td>None</td>\n",
       "      <td>9.82792388629528</td>\n",
       "      <td>...</td>\n",
       "      <td>None</td>\n",
       "      <td>None</td>\n",
       "      <td>None</td>\n",
       "      <td>6.157563335549175</td>\n",
       "      <td>None</td>\n",
       "      <td>61.808450594577764</td>\n",
       "      <td>251.76650902084427</td>\n",
       "      <td>None</td>\n",
       "      <td>None</td>\n",
       "      <td>None</td>\n",
       "    </tr>\n",
       "    <tr>\n",
       "      <th>2</th>\n",
       "      <td>stddev</td>\n",
       "      <td>21647.94637294824</td>\n",
       "      <td>None</td>\n",
       "      <td>None</td>\n",
       "      <td>437.6623099845058</td>\n",
       "      <td>None</td>\n",
       "      <td>None</td>\n",
       "      <td>None</td>\n",
       "      <td>None</td>\n",
       "      <td>6.1965671774261635</td>\n",
       "      <td>...</td>\n",
       "      <td>None</td>\n",
       "      <td>None</td>\n",
       "      <td>None</td>\n",
       "      <td>4.548122470310611</td>\n",
       "      <td>None</td>\n",
       "      <td>12.944754147308164</td>\n",
       "      <td>157.21948728536037</td>\n",
       "      <td>None</td>\n",
       "      <td>None</td>\n",
       "      <td>None</td>\n",
       "    </tr>\n",
       "    <tr>\n",
       "      <th>3</th>\n",
       "      <td>min</td>\n",
       "      <td>1</td>\n",
       "      <td>中古マンション等</td>\n",
       "      <td>住宅地</td>\n",
       "      <td>13101</td>\n",
       "      <td>東京都</td>\n",
       "      <td>あきる野市</td>\n",
       "      <td>あかね台</td>\n",
       "      <td>あざみ野</td>\n",
       "      <td>0</td>\n",
       "      <td>...</td>\n",
       "      <td>その他</td>\n",
       "      <td>北</td>\n",
       "      <td>区画街路</td>\n",
       "      <td>1.0</td>\n",
       "      <td>商業地域</td>\n",
       "      <td>30</td>\n",
       "      <td>50</td>\n",
       "      <td>平成28年第１四半期</td>\n",
       "      <td>改装済</td>\n",
       "      <td>その他事情有り</td>\n",
       "    </tr>\n",
       "    <tr>\n",
       "      <th>4</th>\n",
       "      <td>max</td>\n",
       "      <td>75233</td>\n",
       "      <td>農地</td>\n",
       "      <td>工業地</td>\n",
       "      <td>14137</td>\n",
       "      <td>神奈川県</td>\n",
       "      <td>青梅市</td>\n",
       "      <td>（大字なし）</td>\n",
       "      <td>黒川(神奈川)</td>\n",
       "      <td>9</td>\n",
       "      <td>...</td>\n",
       "      <td>店舗</td>\n",
       "      <td>西</td>\n",
       "      <td>都道</td>\n",
       "      <td>90.0</td>\n",
       "      <td>都市計画区域外</td>\n",
       "      <td>80</td>\n",
       "      <td>1300</td>\n",
       "      <td>平成30年第２四半期</td>\n",
       "      <td>未改装</td>\n",
       "      <td>隣地の購入、関係者間取引</td>\n",
       "    </tr>\n",
       "  </tbody>\n",
       "</table>\n",
       "<p>5 rows × 31 columns</p>\n",
       "</div>"
      ],
      "text/plain": [
       "  summary                  No        種類     地域             市区町村コード   都道府県名  \\\n",
       "0   count              103922    103922  55002              103922  103922   \n",
       "1    mean  31192.466138065087      None   None  13409.291410865842    None   \n",
       "2  stddev   21647.94637294824      None   None   437.6623099845058    None   \n",
       "3     min                   1  中古マンション等    住宅地               13101     東京都   \n",
       "4     max               75233        農地    工業地               14137    神奈川県   \n",
       "\n",
       "    市区町村名     地区名   最寄駅：名称              最寄駅：距離      ...      今後の利用目的 前面道路：方位  \\\n",
       "0  103922  103922   103554              103435      ...        94732   55000   \n",
       "1    None    None     None    9.82792388629528      ...         None    None   \n",
       "2    None    None     None  6.1965671774261635      ...         None    None   \n",
       "3   あきる野市    あかね台     あざみ野                   0      ...          その他       北   \n",
       "4     青梅市  （大字なし）  黒川(神奈川)                   9      ...           店舗       西   \n",
       "\n",
       "  前面道路：種類            前面道路：幅員     都市計画                建ぺい率                 容積率  \\\n",
       "0   54450              54156   103261              102762              102762   \n",
       "1    None  6.157563335549175     None  61.808450594577764  251.76650902084427   \n",
       "2    None  4.548122470310611     None  12.944754147308164  157.21948728536037   \n",
       "3    区画街路                1.0     商業地域                  30                  50   \n",
       "4      都道               90.0  都市計画区域外                  80                1300   \n",
       "\n",
       "         取引時点     改装        取引の事情等  \n",
       "0      103922  43075          6503  \n",
       "1        None   None          None  \n",
       "2        None   None          None  \n",
       "3  平成28年第１四半期    改装済       その他事情有り  \n",
       "4  平成30年第２四半期    未改装  隣地の購入、関係者間取引  \n",
       "\n",
       "[5 rows x 31 columns]"
      ]
     },
     "execution_count": 7,
     "metadata": {},
     "output_type": "execute_result"
    }
   ],
   "source": [
    "describe_result = sdf.describe().toPandas()\n",
    "describe_result"
   ]
  },
  {
   "cell_type": "code",
   "execution_count": 8,
   "metadata": {},
   "outputs": [
    {
     "name": "stdout",
     "output_type": "stream",
     "text": [
      "root\n",
      " |-- No: integer (nullable = true)\n",
      " |-- 種類: string (nullable = true)\n",
      " |-- 地域: string (nullable = true)\n",
      " |-- 市区町村コード: integer (nullable = true)\n",
      " |-- 都道府県名: string (nullable = true)\n",
      " |-- 市区町村名: string (nullable = true)\n",
      " |-- 地区名: string (nullable = true)\n",
      " |-- 最寄駅：名称: string (nullable = true)\n",
      " |-- 最寄駅：距離: string (nullable = true)\n",
      " |-- 取引価格9: long (nullable = true)\n",
      " |-- 坪単価: integer (nullable = true)\n",
      " |-- 間取り: string (nullable = true)\n",
      " |-- 面積: string (nullable = true)\n",
      " |-- 取引価格13: integer (nullable = true)\n",
      " |-- 土地の形状: string (nullable = true)\n",
      " |-- 間口: string (nullable = true)\n",
      " |-- 延床面積: string (nullable = true)\n",
      " |-- 建築年: string (nullable = true)\n",
      " |-- 建物の構造: string (nullable = true)\n",
      " |-- 用途: string (nullable = true)\n",
      " |-- 今後の利用目的: string (nullable = true)\n",
      " |-- 前面道路：方位: string (nullable = true)\n",
      " |-- 前面道路：種類: string (nullable = true)\n",
      " |-- 前面道路：幅員: double (nullable = true)\n",
      " |-- 都市計画: string (nullable = true)\n",
      " |-- 建ぺい率: integer (nullable = true)\n",
      " |-- 容積率: integer (nullable = true)\n",
      " |-- 取引時点: string (nullable = true)\n",
      " |-- 改装: string (nullable = true)\n",
      " |-- 取引の事情等: string (nullable = true)\n",
      "\n"
     ]
    }
   ],
   "source": [
    "sdf.printSchema()"
   ]
  },
  {
   "cell_type": "markdown",
   "metadata": {},
   "source": [
    "Noには関係なさそう  \n",
    "都道府県より、地域、地区に関係ありそう  \n",
    "市町村コードに関係ない  \n",
    "取引価格はダブっているため1個を削除  \n",
    "坪単価より、最後平米当たり単価を算出するため、ここは必要なし  \n",
    "最寄駅より、最寄り駅までの距離、地区などが重要だと思って、削除  \n",
    "取引時点によって多少変動するかもしれないが、今回のデータは2018年取引のデータなので、そこまで変動しいと考えていいと思う  \n",
    "  \n",
    "そのため、'No','市区町村コード','取引価格13','都道府県名','坪単価','最寄駅：名称' ,'取引時点'を削除します。  "
   ]
  },
  {
   "cell_type": "code",
   "execution_count": 9,
   "metadata": {},
   "outputs": [],
   "source": [
    "sdf = sdf.drop( 'No','市区町村コード','都道府県名','地域','地区名', '取引価格13','前面道路：幅員','取引時点' ,'坪単価')"
   ]
  },
  {
   "cell_type": "markdown",
   "metadata": {},
   "source": [
    "欠損値処理  "
   ]
  },
  {
   "cell_type": "markdown",
   "metadata": {},
   "source": [
    "欠損値確認"
   ]
  },
  {
   "cell_type": "code",
   "execution_count": 10,
   "metadata": {},
   "outputs": [
    {
     "data": {
      "text/plain": [
       "103922"
      ]
     },
     "execution_count": 10,
     "metadata": {},
     "output_type": "execute_result"
    }
   ],
   "source": [
    "sdf.count()"
   ]
  },
  {
   "cell_type": "code",
   "execution_count": 11,
   "metadata": {},
   "outputs": [
    {
     "data": {
      "text/html": [
       "<div>\n",
       "<style scoped>\n",
       "    .dataframe tbody tr th:only-of-type {\n",
       "        vertical-align: middle;\n",
       "    }\n",
       "\n",
       "    .dataframe tbody tr th {\n",
       "        vertical-align: top;\n",
       "    }\n",
       "\n",
       "    .dataframe thead th {\n",
       "        text-align: right;\n",
       "    }\n",
       "</style>\n",
       "<table border=\"1\" class=\"dataframe\">\n",
       "  <thead>\n",
       "    <tr style=\"text-align: right;\">\n",
       "      <th></th>\n",
       "      <th>summary</th>\n",
       "      <th>種類</th>\n",
       "      <th>市区町村名</th>\n",
       "      <th>最寄駅：名称</th>\n",
       "      <th>最寄駅：距離</th>\n",
       "      <th>取引価格9</th>\n",
       "      <th>間取り</th>\n",
       "      <th>面積</th>\n",
       "      <th>土地の形状</th>\n",
       "      <th>間口</th>\n",
       "      <th>...</th>\n",
       "      <th>建物の構造</th>\n",
       "      <th>用途</th>\n",
       "      <th>今後の利用目的</th>\n",
       "      <th>前面道路：方位</th>\n",
       "      <th>前面道路：種類</th>\n",
       "      <th>都市計画</th>\n",
       "      <th>建ぺい率</th>\n",
       "      <th>容積率</th>\n",
       "      <th>改装</th>\n",
       "      <th>取引の事情等</th>\n",
       "    </tr>\n",
       "  </thead>\n",
       "  <tbody>\n",
       "    <tr>\n",
       "      <th>0</th>\n",
       "      <td>count</td>\n",
       "      <td>103922</td>\n",
       "      <td>103922</td>\n",
       "      <td>103554</td>\n",
       "      <td>103435</td>\n",
       "      <td>103922</td>\n",
       "      <td>46848</td>\n",
       "      <td>103922</td>\n",
       "      <td>54957</td>\n",
       "      <td>50195</td>\n",
       "      <td>...</td>\n",
       "      <td>83326</td>\n",
       "      <td>77199</td>\n",
       "      <td>94732</td>\n",
       "      <td>55000</td>\n",
       "      <td>54450</td>\n",
       "      <td>103261</td>\n",
       "      <td>102762</td>\n",
       "      <td>102762</td>\n",
       "      <td>43075</td>\n",
       "      <td>6503</td>\n",
       "    </tr>\n",
       "    <tr>\n",
       "      <th>1</th>\n",
       "      <td>mean</td>\n",
       "      <td>None</td>\n",
       "      <td>None</td>\n",
       "      <td>None</td>\n",
       "      <td>9.82792388629528</td>\n",
       "      <td>6.041636920767499E7</td>\n",
       "      <td>None</td>\n",
       "      <td>111.29266503903423</td>\n",
       "      <td>None</td>\n",
       "      <td>9.62276844763319</td>\n",
       "      <td>...</td>\n",
       "      <td>None</td>\n",
       "      <td>None</td>\n",
       "      <td>None</td>\n",
       "      <td>None</td>\n",
       "      <td>None</td>\n",
       "      <td>None</td>\n",
       "      <td>61.808450594577764</td>\n",
       "      <td>251.76650902084427</td>\n",
       "      <td>None</td>\n",
       "      <td>None</td>\n",
       "    </tr>\n",
       "    <tr>\n",
       "      <th>2</th>\n",
       "      <td>stddev</td>\n",
       "      <td>None</td>\n",
       "      <td>None</td>\n",
       "      <td>None</td>\n",
       "      <td>6.1965671774261635</td>\n",
       "      <td>2.4223598810029456E8</td>\n",
       "      <td>None</td>\n",
       "      <td>153.21097015129263</td>\n",
       "      <td>None</td>\n",
       "      <td>5.776756194814655</td>\n",
       "      <td>...</td>\n",
       "      <td>None</td>\n",
       "      <td>None</td>\n",
       "      <td>None</td>\n",
       "      <td>None</td>\n",
       "      <td>None</td>\n",
       "      <td>None</td>\n",
       "      <td>12.944754147308164</td>\n",
       "      <td>157.21948728536037</td>\n",
       "      <td>None</td>\n",
       "      <td>None</td>\n",
       "    </tr>\n",
       "    <tr>\n",
       "      <th>3</th>\n",
       "      <td>min</td>\n",
       "      <td>中古マンション等</td>\n",
       "      <td>あきる野市</td>\n",
       "      <td>あざみ野</td>\n",
       "      <td>0</td>\n",
       "      <td>1000</td>\n",
       "      <td>オープンフロア</td>\n",
       "      <td>10</td>\n",
       "      <td>ほぼ台形</td>\n",
       "      <td>0.5</td>\n",
       "      <td>...</td>\n",
       "      <td>ブロック造</td>\n",
       "      <td>その他</td>\n",
       "      <td>その他</td>\n",
       "      <td>北</td>\n",
       "      <td>区画街路</td>\n",
       "      <td>商業地域</td>\n",
       "      <td>30</td>\n",
       "      <td>50</td>\n",
       "      <td>改装済</td>\n",
       "      <td>その他事情有り</td>\n",
       "    </tr>\n",
       "    <tr>\n",
       "      <th>4</th>\n",
       "      <td>max</td>\n",
       "      <td>農地</td>\n",
       "      <td>青梅市</td>\n",
       "      <td>黒川(神奈川)</td>\n",
       "      <td>9</td>\n",
       "      <td>30000000000</td>\n",
       "      <td>６ＬＤＫ＋Ｓ</td>\n",
       "      <td>990</td>\n",
       "      <td>長方形</td>\n",
       "      <td>9.9</td>\n",
       "      <td>...</td>\n",
       "      <td>ＳＲＣ、ＲＣ</td>\n",
       "      <td>駐車場、店舗、その他</td>\n",
       "      <td>店舗</td>\n",
       "      <td>西</td>\n",
       "      <td>都道</td>\n",
       "      <td>都市計画区域外</td>\n",
       "      <td>80</td>\n",
       "      <td>1300</td>\n",
       "      <td>未改装</td>\n",
       "      <td>隣地の購入、関係者間取引</td>\n",
       "    </tr>\n",
       "  </tbody>\n",
       "</table>\n",
       "<p>5 rows × 22 columns</p>\n",
       "</div>"
      ],
      "text/plain": [
       "  summary        種類   市区町村名   最寄駅：名称              最寄駅：距離  \\\n",
       "0   count    103922  103922   103554              103435   \n",
       "1    mean      None    None     None    9.82792388629528   \n",
       "2  stddev      None    None     None  6.1965671774261635   \n",
       "3     min  中古マンション等   あきる野市     あざみ野                   0   \n",
       "4     max        農地     青梅市  黒川(神奈川)                   9   \n",
       "\n",
       "                  取引価格9      間取り                  面積  土地の形状  \\\n",
       "0                103922    46848              103922  54957   \n",
       "1   6.041636920767499E7     None  111.29266503903423   None   \n",
       "2  2.4223598810029456E8     None  153.21097015129263   None   \n",
       "3                  1000  オープンフロア                  10   ほぼ台形   \n",
       "4           30000000000   ６ＬＤＫ＋Ｓ                 990    長方形   \n",
       "\n",
       "                  間口      ...        建物の構造          用途 今後の利用目的 前面道路：方位  \\\n",
       "0              50195      ...        83326       77199   94732   55000   \n",
       "1   9.62276844763319      ...         None        None    None    None   \n",
       "2  5.776756194814655      ...         None        None    None    None   \n",
       "3                0.5      ...        ブロック造         その他     その他       北   \n",
       "4                9.9      ...       ＳＲＣ、ＲＣ  駐車場、店舗、その他      店舗       西   \n",
       "\n",
       "  前面道路：種類     都市計画                建ぺい率                 容積率     改装  \\\n",
       "0   54450   103261              102762              102762  43075   \n",
       "1    None     None  61.808450594577764  251.76650902084427   None   \n",
       "2    None     None  12.944754147308164  157.21948728536037   None   \n",
       "3    区画街路     商業地域                  30                  50    改装済   \n",
       "4      都道  都市計画区域外                  80                1300    未改装   \n",
       "\n",
       "         取引の事情等  \n",
       "0          6503  \n",
       "1          None  \n",
       "2          None  \n",
       "3       その他事情有り  \n",
       "4  隣地の購入、関係者間取引  \n",
       "\n",
       "[5 rows x 22 columns]"
      ]
     },
     "execution_count": 11,
     "metadata": {},
     "output_type": "execute_result"
    }
   ],
   "source": [
    "sdf.describe().toPandas()"
   ]
  },
  {
   "cell_type": "markdown",
   "metadata": {},
   "source": [
    "ないものを未知に  "
   ]
  },
  {
   "cell_type": "code",
   "execution_count": 12,
   "metadata": {},
   "outputs": [
    {
     "data": {
      "text/plain": [
       "82457"
      ]
     },
     "execution_count": 12,
     "metadata": {},
     "output_type": "execute_result"
    }
   ],
   "source": [
    "sdf = sdf.filter(\n",
    "    col('最寄駅：名称').isNotNull()&\n",
    "    col('最寄駅：距離').isNotNull()&\n",
    "    col('都市計画').isNotNull()&\n",
    "    col('建ぺい率').isNotNull()&\n",
    "    col('容積率').isNotNull()&\n",
    "    col('建築年').isNotNull()\n",
    "    \n",
    ")\n",
    "sdf.count()"
   ]
  },
  {
   "cell_type": "code",
   "execution_count": 13,
   "metadata": {},
   "outputs": [
    {
     "name": "stdout",
     "output_type": "stream",
     "text": [
      "種類 の欠損値の数 0\n",
      "市区町村名 の欠損値の数 0\n",
      "最寄駅：名称 の欠損値の数 0\n",
      "最寄駅：距離 の欠損値の数 0\n",
      "取引価格9 の欠損値の数 0\n",
      "間取り の欠損値の数 37353\n",
      "面積 の欠損値の数 0\n",
      "土地の形状 の欠損値の数 46922\n",
      "間口 の欠損値の数 49939\n",
      "延床面積 の欠損値の数 47254\n",
      "建築年 の欠損値の数 0\n",
      "建物の構造 の欠損値の数 1446\n",
      "用途 の欠損値の数 7672\n",
      "今後の利用目的 の欠損値の数 4819\n",
      "前面道路：方位 の欠損値の数 46900\n",
      "前面道路：種類 の欠損値の数 47096\n",
      "都市計画 の欠損値の数 0\n",
      "建ぺい率 の欠損値の数 0\n",
      "容積率 の欠損値の数 0\n",
      "改装 の欠損値の数 40951\n",
      "取引の事情等 の欠損値の数 78129\n"
     ]
    }
   ],
   "source": [
    "for c in sdf.columns:\n",
    "    print(c,'の欠損値の数',sdf.filter(col(c).isNull()).count())"
   ]
  },
  {
   "cell_type": "code",
   "execution_count": 14,
   "metadata": {},
   "outputs": [],
   "source": [
    "features_to_fill =[\n",
    "    '間取り',\n",
    "    '延床面積',\n",
    "    '建築年',\n",
    "    '建物の構造',\n",
    "    '土地の形状',\n",
    "    '建物の構造',\n",
    "    '用途',\n",
    "    '今後の利用目的','前面道路：方位','前面道路：種類'\n",
    "    ,'改装','取引の事情等'\n",
    "\n",
    "]\n",
    "\n",
    "sdf = sdf.fillna('未知',subset=features_to_fill)"
   ]
  },
  {
   "cell_type": "markdown",
   "metadata": {},
   "source": [
    "1駅までの距離"
   ]
  },
  {
   "cell_type": "code",
   "execution_count": 15,
   "metadata": {},
   "outputs": [
    {
     "name": "stdout",
     "output_type": "stream",
     "text": [
      "+-------+-----+\n",
      "| 最寄駅：距離|count|\n",
      "+-------+-----+\n",
      "|      7| 4776|\n",
      "|     15| 2703|\n",
      "|     11| 4351|\n",
      "|1H30?2H|   27|\n",
      "|     29|  468|\n",
      "|      3| 5188|\n",
      "|      8| 6170|\n",
      "|     28|  577|\n",
      "|     22|   89|\n",
      "|     16| 2292|\n",
      "|      0|  329|\n",
      "|      5| 5820|\n",
      "|     18| 1846|\n",
      "|     27|   21|\n",
      "|     17|  260|\n",
      "|     26|  604|\n",
      "|      6| 6558|\n",
      "|     19| 1581|\n",
      "|     23|  951|\n",
      "|     25|  829|\n",
      "+-------+-----+\n",
      "only showing top 20 rows\n",
      "\n"
     ]
    }
   ],
   "source": [
    "sdf.groupby('最寄駅：距離').count().show()"
   ]
  },
  {
   "cell_type": "code",
   "execution_count": 16,
   "metadata": {},
   "outputs": [],
   "source": [
    "li = ['1H30?2H','1H?1H30','30分?60分','2H?']\n",
    "sdf = sdf.filter(~(col('最寄駅：距離').isin(li)))"
   ]
  },
  {
   "cell_type": "code",
   "execution_count": 17,
   "metadata": {},
   "outputs": [
    {
     "data": {
      "text/plain": [
       "0"
      ]
     },
     "execution_count": 17,
     "metadata": {},
     "output_type": "execute_result"
    }
   ],
   "source": [
    "sdf.filter(col('最寄駅：距離').isNull()).count()"
   ]
  },
  {
   "cell_type": "markdown",
   "metadata": {},
   "source": [
    "駅までの距離を解決"
   ]
  },
  {
   "cell_type": "markdown",
   "metadata": {},
   "source": [
    "面積に異常値などを除去"
   ]
  },
  {
   "cell_type": "code",
   "execution_count": 18,
   "metadata": {},
   "outputs": [
    {
     "name": "stdout",
     "output_type": "stream",
     "text": [
      "+-------+------------------+\n",
      "|summary|                面積|\n",
      "+-------+------------------+\n",
      "|  count|             78947|\n",
      "|   mean| 88.49092730431254|\n",
      "| stddev|105.63867365237994|\n",
      "|    min|                10|\n",
      "|    max|               990|\n",
      "+-------+------------------+\n",
      "\n"
     ]
    }
   ],
   "source": [
    "sdf.select('面積').describe().show()"
   ]
  },
  {
   "cell_type": "code",
   "execution_count": 19,
   "metadata": {},
   "outputs": [],
   "source": [
    "sdf = sdf.filter(~(col('面積').contains('以上')))\n",
    "sdf = sdf.filter(~(col('延床面積').contains('以上')))"
   ]
  },
  {
   "cell_type": "markdown",
   "metadata": {},
   "source": [
    "500以上は広すぎ、"
   ]
  },
  {
   "cell_type": "code",
   "execution_count": 20,
   "metadata": {},
   "outputs": [],
   "source": [
    "sdf = sdf.filter(~(col('面積')>500))"
   ]
  },
  {
   "cell_type": "markdown",
   "metadata": {},
   "source": [
    "残りも、わからないのが未知"
   ]
  },
  {
   "cell_type": "code",
   "execution_count": 21,
   "metadata": {},
   "outputs": [
    {
     "name": "stdout",
     "output_type": "stream",
     "text": [
      "+---------+-----+------+------+---------+----+---+-----+----+----+-----+-----+---------+-------+-------+-------+----+----+---+---+------+\n",
      "|       種類|市区町村名|最寄駅：名称|最寄駅：距離|    取引価格9| 間取り| 面積|土地の形状|  間口|延床面積|  建築年|建物の構造|       用途|今後の利用目的|前面道路：方位|前面道路：種類|都市計画|建ぺい率|容積率| 改装|取引の事情等|\n",
      "+---------+-----+------+------+---------+----+---+-----+----+----+-----+-----+---------+-------+-------+-------+----+----+---+---+------+\n",
      "|宅地(土地と建物)| 千代田区|   飯田橋|     3|250000000|  未知| 80| ほぼ台形| 6.8| 330|昭和61年|   ＲＣ|住宅、事務所、店舗|    事務所|     南西|     区道|商業地域|  80|500| 未知|    未知|\n",
      "| 中古マンション等| 千代田区|   飯田橋|     3| 22000000|  １Ｋ| 30|   未知|null|  未知|昭和60年|  ＳＲＣ|       未知|     住宅|     未知|     未知|商業地域|  80|700|未改装|    未知|\n",
      "| 中古マンション等| 千代田区|   飯田橋|     1| 69000000|２ＬＤＫ| 70|   未知|null|  未知|昭和59年|  ＳＲＣ|       未知|     住宅|     未知|     未知|商業地域|  80|600|未改装|    未知|\n",
      "| 中古マンション等| 千代田区|   飯田橋|     3| 21000000|  １Ｋ| 25|   未知|null|  未知|昭和60年|  ＳＲＣ|       住宅|    事務所|     未知|     未知|商業地域|  80|700|未改装|    未知|\n",
      "| 中古マンション等| 千代田区|   飯田橋|     4| 45000000|１ＬＤＫ| 45|   未知|null|  未知|昭和57年|  ＳＲＣ|       住宅|     住宅|     未知|     未知|商業地域|  80|700|改装済|    未知|\n",
      "| 中古マンション等| 千代田区|   飯田橋|     1| 66000000|２ＬＤＫ| 55|   未知|null|  未知|昭和59年|  ＳＲＣ|       未知|     住宅|     未知|     未知|商業地域|  80|600|改装済|    未知|\n",
      "| 中古マンション等| 千代田区|   飯田橋|     5| 19000000|  １Ｋ| 20|   未知|null|  未知|平成15年|   ＲＣ|       未知|     住宅|     未知|     未知|商業地域|  80|500|未改装|    未知|\n",
      "| 中古マンション等| 千代田区|   飯田橋|     3| 37000000|１ＬＤＫ| 45|   未知|null|  未知|平成24年|   ＲＣ|       住宅|    その他|     未知|     未知|商業地域|  80|500|未改装|    未知|\n",
      "| 中古マンション等| 千代田区|   飯田橋|     5| 18000000|  １Ｒ| 20|   未知|null|  未知|平成15年|   ＲＣ|       住宅|     住宅|     未知|     未知|商業地域|  80|500|未改装|    未知|\n",
      "|宅地(土地と建物)| 千代田区|   飯田橋|     3|240000000|  未知| 80| ほぼ台形| 6.8| 330|昭和61年|   ＲＣ|住宅、事務所、店舗|    事務所|     南西|     区道|商業地域|  80|500| 未知|    未知|\n",
      "+---------+-----+------+------+---------+----+---+-----+----+----+-----+-----+---------+-------+-------+-------+----+----+---+---+------+\n",
      "only showing top 10 rows\n",
      "\n"
     ]
    }
   ],
   "source": [
    "sdf.show(10)"
   ]
  },
  {
   "cell_type": "markdown",
   "metadata": {},
   "source": [
    "築年を築年数に変換"
   ]
  },
  {
   "cell_type": "code",
   "execution_count": 22,
   "metadata": {},
   "outputs": [],
   "source": [
    "sdf = sdf.filter(col('建築年').isNotNull())\n",
    "sdf = sdf.filter(~(col('建築年').contains('戦前')))"
   ]
  },
  {
   "cell_type": "code",
   "execution_count": 23,
   "metadata": {},
   "outputs": [
    {
     "name": "stdout",
     "output_type": "stream",
     "text": [
      "+-----+\n",
      "|  建築年|\n",
      "+-----+\n",
      "|昭和61年|\n",
      "|昭和60年|\n",
      "|昭和59年|\n",
      "|昭和60年|\n",
      "|昭和57年|\n",
      "|昭和59年|\n",
      "|平成15年|\n",
      "|平成24年|\n",
      "|平成15年|\n",
      "|昭和61年|\n",
      "+-----+\n",
      "only showing top 10 rows\n",
      "\n"
     ]
    }
   ],
   "source": [
    "sdf.select('建築年').show(10)"
   ]
  },
  {
   "cell_type": "code",
   "execution_count": 24,
   "metadata": {
    "scrolled": true
   },
   "outputs": [],
   "source": [
    "import re\n",
    "def year_transform(year):\n",
    "    if re.match('昭和元年', year):\n",
    "        year = 2018-1926\n",
    "        return year\n",
    "    elif re.match('昭和',year):\n",
    "        year = 2018-(1925 + int(re.sub(r'\\D','',year)))\n",
    "        return year\n",
    "    elif re.match('平成元年', year):\n",
    "        year = 2018-1989\n",
    "        return year\n",
    "    elif re.match('平成',year):\n",
    "        year = 2018-(1988 + int(re.sub(r'\\D','',year)))\n",
    "        return year\n",
    "    else:\n",
    "        return year"
   ]
  },
  {
   "cell_type": "code",
   "execution_count": 25,
   "metadata": {
    "code_folding": []
   },
   "outputs": [],
   "source": [
    "year_series = np.array([])\n",
    "for i in sdf.select('建築年').collect():\n",
    "    np.append(year_series,year_transform(i[0]))"
   ]
  },
  {
   "cell_type": "code",
   "execution_count": 26,
   "metadata": {
    "scrolled": true
   },
   "outputs": [
    {
     "name": "stdout",
     "output_type": "stream",
     "text": [
      "+---------+-----+------+------+---------+----+---+-----+----+----+-----+---------+-------+-------+-------+----+----+---+---+------+---+\n",
      "|       種類|市区町村名|最寄駅：名称|最寄駅：距離|    取引価格9| 間取り| 面積|土地の形状|  間口|延床面積|建物の構造|       用途|今後の利用目的|前面道路：方位|前面道路：種類|都市計画|建ぺい率|容積率| 改装|取引の事情等| 年数|\n",
      "+---------+-----+------+------+---------+----+---+-----+----+----+-----+---------+-------+-------+-------+----+----+---+---+------+---+\n",
      "|宅地(土地と建物)| 千代田区|   飯田橋|     3|250000000|  未知| 80| ほぼ台形| 6.8| 330|   ＲＣ|住宅、事務所、店舗|    事務所|     南西|     区道|商業地域|  80|500| 未知|    未知| 32|\n",
      "| 中古マンション等| 千代田区|   飯田橋|     3| 22000000|  １Ｋ| 30|   未知|null|  未知|  ＳＲＣ|       未知|     住宅|     未知|     未知|商業地域|  80|700|未改装|    未知| 33|\n",
      "| 中古マンション等| 千代田区|   飯田橋|     1| 69000000|２ＬＤＫ| 70|   未知|null|  未知|  ＳＲＣ|       未知|     住宅|     未知|     未知|商業地域|  80|600|未改装|    未知| 34|\n",
      "| 中古マンション等| 千代田区|   飯田橋|     3| 21000000|  １Ｋ| 25|   未知|null|  未知|  ＳＲＣ|       住宅|    事務所|     未知|     未知|商業地域|  80|700|未改装|    未知| 33|\n",
      "| 中古マンション等| 千代田区|   飯田橋|     4| 45000000|１ＬＤＫ| 45|   未知|null|  未知|  ＳＲＣ|       住宅|     住宅|     未知|     未知|商業地域|  80|700|改装済|    未知| 36|\n",
      "+---------+-----+------+------+---------+----+---+-----+----+----+-----+---------+-------+-------+-------+----+----+---+---+------+---+\n",
      "only showing top 5 rows\n",
      "\n"
     ]
    }
   ],
   "source": [
    "udf_year_transform = udf(year_transform, IntegerType())\n",
    "sdf = sdf.withColumn(\"年数\", udf_year_transform(\"建築年\"))\n",
    "sdf = sdf.drop('建築年')\n",
    "sdf.show(5)"
   ]
  },
  {
   "cell_type": "markdown",
   "metadata": {},
   "source": [
    "種類を集計"
   ]
  },
  {
   "cell_type": "code",
   "execution_count": 27,
   "metadata": {},
   "outputs": [
    {
     "name": "stdout",
     "output_type": "stream",
     "text": [
      "+---------+-----+\n",
      "|       種類|count|\n",
      "+---------+-----+\n",
      "|宅地(土地と建物)|32023|\n",
      "| 中古マンション等|45936|\n",
      "+---------+-----+\n",
      "\n"
     ]
    }
   ],
   "source": [
    "sdf.groupBy('種類').count().show()"
   ]
  },
  {
   "cell_type": "markdown",
   "metadata": {},
   "source": [
    "マンションと戸建てだけなので、問題なし"
   ]
  },
  {
   "cell_type": "markdown",
   "metadata": {},
   "source": [
    "二種類の住宅があり、  \n",
    "延べとこ面積を計算  \n",
    "戸建てなら、延べとこ面積=面積×容積率  \n",
    "でも、マンションの場合、延べ床面積=住宅面積  "
   ]
  },
  {
   "cell_type": "code",
   "execution_count": 28,
   "metadata": {},
   "outputs": [],
   "source": [
    "from pyspark.sql.functions import when\n",
    "# sdf = sdf.filter(col('容積率').isNotNull())\n",
    "floor_area_column = when(col('種類') == '宅地(土地と建物)', col('面積')*col('容積率')/100).when(col('種類') == '中古マンション等', col('面積')).otherwise(0)\n",
    "sdf = sdf.withColumn('延床面積',floor_area_column)"
   ]
  },
  {
   "cell_type": "code",
   "execution_count": 29,
   "metadata": {},
   "outputs": [
    {
     "name": "stdout",
     "output_type": "stream",
     "text": [
      "+---------+-----+---+---+\n",
      "|       種類| 延床面積| 面積|容積率|\n",
      "+---------+-----+---+---+\n",
      "|宅地(土地と建物)|400.0| 80|500|\n",
      "| 中古マンション等|   30| 30|700|\n",
      "| 中古マンション等|   70| 70|600|\n",
      "| 中古マンション等|   25| 25|700|\n",
      "| 中古マンション等|   45| 45|700|\n",
      "| 中古マンション等|   55| 55|600|\n",
      "| 中古マンション等|   20| 20|500|\n",
      "| 中古マンション等|   45| 45|500|\n",
      "| 中古マンション等|   20| 20|500|\n",
      "|宅地(土地と建物)|400.0| 80|500|\n",
      "| 中古マンション等|   55| 55|600|\n",
      "| 中古マンション等|   55| 55|500|\n",
      "| 中古マンション等|   55| 55|600|\n",
      "| 中古マンション等|   55| 55|600|\n",
      "| 中古マンション等|   20| 20|700|\n",
      "| 中古マンション等|   70| 70|500|\n",
      "| 中古マンション等|   50| 50|500|\n",
      "| 中古マンション等|   85| 85|500|\n",
      "| 中古マンション等|   55| 55|600|\n",
      "| 中古マンション等|   55| 55|600|\n",
      "+---------+-----+---+---+\n",
      "only showing top 20 rows\n",
      "\n"
     ]
    }
   ],
   "source": [
    "sdf.select('種類','延床面積','面積','容積率').show()"
   ]
  },
  {
   "cell_type": "markdown",
   "metadata": {},
   "source": [
    "これで面積はオッケー"
   ]
  },
  {
   "cell_type": "markdown",
   "metadata": {},
   "source": [
    "駅名、地区名などをダミー化するのはほぼ不可能なので、  \n",
    "それより、駅の平均地価、地区の平均地価などを算出して、  \n",
    "それがより効果的な特徴量だと思います。  "
   ]
  },
  {
   "cell_type": "code",
   "execution_count": 30,
   "metadata": {},
   "outputs": [
    {
     "name": "stdout",
     "output_type": "stream",
     "text": [
      "root\n",
      " |-- 種類: string (nullable = true)\n",
      " |-- 市区町村名: string (nullable = true)\n",
      " |-- 最寄駅：名称: string (nullable = true)\n",
      " |-- 最寄駅：距離: string (nullable = true)\n",
      " |-- 取引価格9: long (nullable = true)\n",
      " |-- 間取り: string (nullable = false)\n",
      " |-- 面積: string (nullable = true)\n",
      " |-- 土地の形状: string (nullable = false)\n",
      " |-- 間口: string (nullable = true)\n",
      " |-- 延床面積: string (nullable = true)\n",
      " |-- 建物の構造: string (nullable = false)\n",
      " |-- 用途: string (nullable = false)\n",
      " |-- 今後の利用目的: string (nullable = false)\n",
      " |-- 前面道路：方位: string (nullable = false)\n",
      " |-- 前面道路：種類: string (nullable = false)\n",
      " |-- 都市計画: string (nullable = true)\n",
      " |-- 建ぺい率: integer (nullable = true)\n",
      " |-- 容積率: integer (nullable = true)\n",
      " |-- 改装: string (nullable = false)\n",
      " |-- 取引の事情等: string (nullable = false)\n",
      " |-- 年数: integer (nullable = true)\n",
      "\n"
     ]
    }
   ],
   "source": [
    "sdf.printSchema()"
   ]
  },
  {
   "cell_type": "code",
   "execution_count": 31,
   "metadata": {},
   "outputs": [],
   "source": [
    "sdf = sdf.withColumn(\"平米単価\", col('取引価格9')/col('面積'))\n",
    "city  = sdf.groupby('市区町村名').agg({\"平米単価\": \"mean\"})\n",
    "sdf = sdf.join(city,sdf['市区町村名'] == city['市区町村名'] )\n",
    "sdf = sdf.withColumnRenamed('avg(平米単価)', '地区平米単価')"
   ]
  },
  {
   "cell_type": "code",
   "execution_count": 32,
   "metadata": {},
   "outputs": [],
   "source": [
    "station  = sdf.groupby('最寄駅：名称').agg({\"平米単価\": \"mean\"})\n",
    "sdf = sdf.join(station,sdf['最寄駅：名称'] == station['最寄駅：名称'] )\n",
    "sdf = sdf.withColumnRenamed('avg(平米単価)', '駅平米単価')"
   ]
  },
  {
   "cell_type": "markdown",
   "metadata": {},
   "source": [
    "これで、市町村名、最寄駅が不要になる"
   ]
  },
  {
   "cell_type": "code",
   "execution_count": 33,
   "metadata": {},
   "outputs": [],
   "source": [
    "sdf = sdf.drop('市区町村名','最寄駅：名称')"
   ]
  },
  {
   "cell_type": "markdown",
   "metadata": {},
   "source": [
    "特徴量削減のため、変な間取を削除する。  \n",
    "数値＋Sあるかどうか＋Rあるかどうかにしましょう  "
   ]
  },
  {
   "cell_type": "code",
   "execution_count": 34,
   "metadata": {},
   "outputs": [
    {
     "name": "stdout",
     "output_type": "stream",
     "text": [
      "+-------+-----+\n",
      "|    間取り|count|\n",
      "+-------+-----+\n",
      "| １ＬＤＫ＋Ｓ|  130|\n",
      "|   ５ＬＤＫ|   21|\n",
      "|   １ＬＤＫ| 3308|\n",
      "|     １Ｒ|  751|\n",
      "| ３ＬＤＫ＋Ｓ|   33|\n",
      "|   スタジオ|   11|\n",
      "|    ５ＤＫ|    1|\n",
      "|   ３ＬＤＫ|13325|\n",
      "|   ２ＬＤＫ| 7848|\n",
      "|   ４ＬＤＫ| 1510|\n",
      "|  ２ＬＤ＋Ｓ|    1|\n",
      "|     未知|33785|\n",
      "|    ３ＤＫ|  569|\n",
      "|    ３ＬＫ|    5|\n",
      "|    ４ＤＫ|   11|\n",
      "|     ３Ｋ|   17|\n",
      "| ３ＬＤＫ＋Ｋ|    1|\n",
      "|    ２ＬＤ|    1|\n",
      "|     １Ｋ|12245|\n",
      "| ４ＬＤＫ＋Ｓ|    4|\n",
      "|     ４Ｋ|    2|\n",
      "|  ２ＤＫ＋Ｓ|   21|\n",
      "|  １ＤＫ＋Ｓ|    4|\n",
      "|   １Ｌ＋Ｓ|    1|\n",
      "|     ２Ｋ|  106|\n",
      "|  メゾネット|    2|\n",
      "|  ３ＤＫ＋Ｓ|    3|\n",
      "|   ２Ｋ＋Ｓ|    1|\n",
      "|    ２ＤＫ| 1679|\n",
      "|オープンフロア|  334|\n",
      "| ６ＬＤＫ＋Ｓ|    1|\n",
      "| ２ＬＤＫ＋Ｓ|  311|\n",
      "|    １ＤＫ| 1916|\n",
      "|  ２ＬＫ＋Ｓ|    1|\n",
      "+-------+-----+\n",
      "\n"
     ]
    }
   ],
   "source": [
    "sdf.groupby('間取り').count().show(100)"
   ]
  },
  {
   "cell_type": "code",
   "execution_count": 35,
   "metadata": {},
   "outputs": [],
   "source": [
    "floor_plan_list = ['５ＬＤＫ','スタジオ','５ＤＫ','','６ＬＤＫ＋Ｓ','メゾネット','オープンフロア','６ＬＤＫ＋Ｓ','３ＬＤＫ＋Ｋ','１Ｌ＋Ｓ','２ＬＤ＋Ｓ']\n",
    "sdf = sdf.filter(~(col('間取り').isin(floor_plan_list)))"
   ]
  },
  {
   "cell_type": "code",
   "execution_count": 36,
   "metadata": {},
   "outputs": [
    {
     "name": "stdout",
     "output_type": "stream",
     "text": [
      "+------+------------------+\n",
      "|   間取り|           avg(面積)|\n",
      "+------+------------------+\n",
      "|    １Ｒ|18.914780292942744|\n",
      "|    １Ｋ|20.292772560228666|\n",
      "|    ２Ｋ|30.141509433962263|\n",
      "|   １ＤＫ|30.177453027139876|\n",
      "|  ２Ｋ＋Ｓ|              40.0|\n",
      "| １ＤＫ＋Ｓ|              42.5|\n",
      "|  １ＬＤＫ| 43.20737605804111|\n",
      "|    ３Ｋ|  43.8235294117647|\n",
      "|   ２ＤＫ| 45.09827278141751|\n",
      "| ２ＤＫ＋Ｓ| 51.19047619047619|\n",
      "|   ３ＤＫ| 51.48506151142355|\n",
      "|１ＬＤＫ＋Ｓ| 54.26923076923077|\n",
      "|    ４Ｋ|              55.0|\n",
      "|   ３ＬＫ|              59.0|\n",
      "|  ２ＬＤＫ| 59.78656982670744|\n",
      "| ２ＬＫ＋Ｓ|              60.0|\n",
      "| ３ＤＫ＋Ｓ|61.666666666666664|\n",
      "|２ＬＤＫ＋Ｓ|63.842443729903536|\n",
      "|   ４ＤＫ| 65.45454545454545|\n",
      "|  ３ＬＤＫ| 69.84652908067542|\n",
      "|３ＬＤＫ＋Ｓ| 83.03030303030303|\n",
      "|   ２ＬＤ|              85.0|\n",
      "|  ４ＬＤＫ| 88.94039735099338|\n",
      "|４ＬＤＫ＋Ｓ|             100.0|\n",
      "|    未知|121.38582211040402|\n",
      "+------+------------------+\n",
      "\n"
     ]
    }
   ],
   "source": [
    "sdf.groupby('間取り').agg({\"面積\":\"mean\",\"面積\":\"mean\"}).sort('avg(面積)').show(100)"
   ]
  },
  {
   "cell_type": "code",
   "execution_count": 37,
   "metadata": {},
   "outputs": [],
   "source": [
    "l_column = when(condition=col('間取り').like('%Ｌ%'),value=1).otherwise(0)\n",
    "d_column = when(condition=col('間取り').like('%Ｄ%'),value=1).otherwise(0)\n",
    "s_column = when(condition=col('間取り').like('%Ｓ%'),value=1).otherwise(0)\n",
    "sdf = sdf.withColumn('is_l',l_column).withColumn('is_d',d_column).withColumn('is_s',s_column)"
   ]
  },
  {
   "cell_type": "markdown",
   "metadata": {},
   "source": [
    "部屋数もを追加しましょう。"
   ]
  },
  {
   "cell_type": "code",
   "execution_count": 38,
   "metadata": {},
   "outputs": [
    {
     "name": "stdout",
     "output_type": "stream",
     "text": [
      "+--------+------+--------+----+---+-----+----+----+-----+---+-------+-------+-------+------------+----+---+---+------+---+------------------+------------------+-----------------+----+----+----+---+\n",
      "|      種類|最寄駅：距離|   取引価格9| 間取り| 面積|土地の形状|  間口|延床面積|建物の構造| 用途|今後の利用目的|前面道路：方位|前面道路：種類|        都市計画|建ぺい率|容積率| 改装|取引の事情等| 年数|              平米単価|            地区平米単価|            駅平米単価|is_l|is_d|is_s|部屋数|\n",
      "+--------+------+--------+----+---+-----+----+----+-----+---+-------+-------+-------+------------+----+---+---+------+---+------------------+------------------+-----------------+----+----+----+---+\n",
      "|中古マンション等|     5|50000000|２ＬＤＫ| 55|   未知|null|  55|   ＲＣ| 住宅|     住宅|     未知|     未知|第１種中高層住居専用地域|  60|300|未改装|    未知| 10| 909090.9090909091|1004564.1334076918|916922.5616003348|   1|   1|   0|  3|\n",
      "|中古マンション等|    10|39000000|３ＬＤＫ| 55|   未知|null|  55|  ＳＲＣ| 住宅|     住宅|     未知|     未知|     第１種住居地域|  60|400|未改装|    未知| 46| 709090.9090909091|1004564.1334076918|916922.5616003348|   1|   1|   0|  5|\n",
      "|中古マンション等|     9|33000000|  １Ｋ| 20|   未知|null|  20|   ＲＣ| 未知|     住宅|     未知|     未知|     第１種住居地域|  60|400|未改装|    未知|  1|         1650000.0|1004564.1334076918|916922.5616003348|   0|   0|   0|  1|\n",
      "|中古マンション等|     7|19000000|  １Ｋ| 15|   未知|null|  15|   ＲＣ| 住宅|    その他|     未知|     未知|     第１種住居地域|  60|400|未改装|    未知| 21|1266666.6666666667|1004564.1334076918|916922.5616003348|   0|   0|   0|  1|\n",
      "|中古マンション等|     7|34000000|  １Ｋ| 25|   未知|null|  25|   ＲＣ| 住宅|     住宅|     未知|     未知|     第１種住居地域|  60|400|未改装|    未知|  0|         1360000.0|1004564.1334076918|916922.5616003348|   0|   0|   0|  1|\n",
      "|中古マンション等|     6|34000000|  １Ｋ| 25|   未知|null|  25|   未知| 未知|     住宅|     未知|     未知|     第１種住居地域|  60|400| 未知|    未知|  0|         1360000.0|1004564.1334076918|916922.5616003348|   0|   0|   0|  1|\n",
      "|中古マンション等|     6|35000000|  １Ｋ| 25|   未知|null|  25|   未知| 未知|     住宅|     未知|     未知|     第１種住居地域|  60|400| 未知|    未知|  0|         1400000.0|1004564.1334076918|916922.5616003348|   0|   0|   0|  1|\n",
      "|中古マンション等|     9|34000000|  １Ｋ| 25|   未知|null|  25|   ＲＣ| 未知|     住宅|     未知|     未知|     第１種住居地域|  60|400|未改装|    未知|  1|         1360000.0|1004564.1334076918|916922.5616003348|   0|   0|   0|  1|\n",
      "|中古マンション等|     8|20000000|  １Ｋ| 20|   未知|null|  20|   ＲＣ| 住宅|     住宅|     未知|     未知|     第１種住居地域|  60|400|未改装|    未知| 12|         1000000.0|1004564.1334076918|916922.5616003348|   0|   0|   0|  1|\n",
      "|中古マンション等|     8|22000000|  １Ｋ| 20|   未知|null|  20|   ＲＣ| 未知|     未知|     未知|     未知|      近隣商業地域|  80|400| 未知|    未知| 12|         1100000.0|1004564.1334076918|916922.5616003348|   0|   0|   0|  1|\n",
      "+--------+------+--------+----+---+-----+----+----+-----+---+-------+-------+-------+------------+----+---+---+------+---+------------------+------------------+-----------------+----+----+----+---+\n",
      "only showing top 10 rows\n",
      "\n"
     ]
    }
   ],
   "source": [
    "dic_num = {1:['１Ｒ','１Ｋ'],\n",
    "           2:['１ＬＤＫ','１ＤＫ','１ＤＫ＋Ｓ','２Ｋ','１Ｌ＋Ｓ'],\n",
    "           3:['２Ｋ＋Ｓ','３Ｋ','２ＤＫ','１ＬＤＫ＋Ｓ','２ＬＤＫ','２ＬＤ'],\n",
    "             4:['３ＤＫ','４Ｋ','３ＬＫ','２ＤＫ＋Ｓ','２ＬＫ＋Ｓ','２ＬＤＫ＋Ｓ'],\n",
    "             5:['４ＤＫ','３ＬＤＫ','３ＬＤＫ＋Ｓ','４ＬＤＫ'],\n",
    "             6:['４ＬＤＫ＋Ｓ']\n",
    "}\n",
    "number_of_room = when(condition=col('間取り').isin(dic_num[1]),value=1).\\\n",
    "               when(condition=col('間取り').isin(dic_num[2]),value=2).\\\n",
    "                 when(condition=col('間取り').isin(dic_num[3]),value=3).\\\n",
    "                when(condition=col('間取り').isin(dic_num[4]),value=4).\\\n",
    "             when(condition=col('間取り').isin(dic_num[5]),value=5).\\\n",
    "                 when(condition=col('間取り').isin(dic_num[6]),value=6).otherwise('部屋数未知')\n",
    "\n",
    "\n",
    "                \n",
    "sdf = sdf.withColumn('部屋数',number_of_room)\n",
    "\n",
    "sdf.show(10)"
   ]
  },
  {
   "cell_type": "markdown",
   "metadata": {},
   "source": [
    "面積で補完したいですけど、工数は膨大なので、一旦飛ばします。  "
   ]
  },
  {
   "cell_type": "code",
   "execution_count": 39,
   "metadata": {},
   "outputs": [],
   "source": [
    "# sdf.groupby('部屋数').agg({'面積':'mean'}).show()"
   ]
  },
  {
   "cell_type": "code",
   "execution_count": 40,
   "metadata": {},
   "outputs": [],
   "source": [
    "# room_num_without_zero =  when(condition=(col('部屋数')==0 & col('延床面積').between(0,20)),value=1).\\\n",
    "# when(condition=(col('部屋数')==0& col('延床面積')>100),value=7).otherwise(0)\n",
    "# .\\\n",
    "#                when(col('部屋数')==0& col('延床面積').between(20,40),value=2).\\\n",
    "#                  when(col('部屋数')==0& col('延床面積').between(40,60),value=3).\\\n",
    "#                 when(col('部屋数')==0& col('延床面積').between(60,80),value=5).\\\n",
    "#              when(col('部屋数')==0& col('延床面積').between(80,100),value=6).\\\n",
    "                 "
   ]
  },
  {
   "cell_type": "code",
   "execution_count": 41,
   "metadata": {},
   "outputs": [],
   "source": [
    "# sdf = sdf.drop('間取り')"
   ]
  },
  {
   "cell_type": "markdown",
   "metadata": {},
   "source": [
    "間口"
   ]
  },
  {
   "cell_type": "markdown",
   "metadata": {},
   "source": [
    "間口に関して、中古マンションには間口という概念がなくて、0で補完できる。  \n",
    "一方、宅地なら間口は必ずあるため、それを平均値で補完  "
   ]
  },
  {
   "cell_type": "code",
   "execution_count": 42,
   "metadata": {},
   "outputs": [
    {
     "name": "stdout",
     "output_type": "stream",
     "text": [
      "+---------+-----+\n",
      "|       種類|count|\n",
      "+---------+-----+\n",
      "|宅地(土地と建物)| 2692|\n",
      "| 中古マンション等|45563|\n",
      "+---------+-----+\n",
      "\n"
     ]
    }
   ],
   "source": [
    "sdf.filter(col('間口').isNull()).select('種類').groupby('種類').count().show()"
   ]
  },
  {
   "cell_type": "code",
   "execution_count": 43,
   "metadata": {},
   "outputs": [
    {
     "name": "stdout",
     "output_type": "stream",
     "text": [
      "          種類   avg(間口)\n",
      "0  宅地(土地と建物)  8.190678\n",
      "1   中古マンション等       NaN\n"
     ]
    }
   ],
   "source": [
    "sdf = sdf.fillna(0,subset=['間口'])\n",
    "sdf = sdf.withColumn('間口',col('間口').cast(IntegerType()))\n",
    "print(sdf.groupBy('種類').avg('間口').toPandas())\n",
    "\n",
    "maguchi = when((col('種類') == '宅地(土地と建物)') & (col('間口')==0),7.5).otherwise(0)\n",
    "sdf = sdf.withColumn('間口',maguchi)\n"
   ]
  },
  {
   "cell_type": "code",
   "execution_count": 44,
   "metadata": {},
   "outputs": [
    {
     "name": "stdout",
     "output_type": "stream",
     "text": [
      "+---+-----+\n",
      "| 間口|count|\n",
      "+---+-----+\n",
      "|0.0|77586|\n",
      "+---+-----+\n",
      "\n"
     ]
    }
   ],
   "source": [
    "sdf.groupby('間口').count().show()"
   ]
  },
  {
   "cell_type": "markdown",
   "metadata": {},
   "source": [
    "間口も補間完了  "
   ]
  },
  {
   "cell_type": "markdown",
   "metadata": {},
   "source": [
    "取引事情ありなしだけで分けようとおもいます。  "
   ]
  },
  {
   "cell_type": "code",
   "execution_count": 45,
   "metadata": {
    "scrolled": true
   },
   "outputs": [
    {
     "name": "stdout",
     "output_type": "stream",
     "text": [
      "+------+-----+\n",
      "|取引の事情等|count|\n",
      "+------+-----+\n",
      "|     1| 3989|\n",
      "|     0|73597|\n",
      "+------+-----+\n",
      "\n"
     ]
    }
   ],
   "source": [
    "others = when(col('取引の事情等')=='未知',0).otherwise(1)\n",
    "sdf = sdf.withColumn('取引の事情等',others)\n",
    "sdf.groupby('取引の事情等').count().show()\n"
   ]
  },
  {
   "cell_type": "markdown",
   "metadata": {},
   "source": [
    "未知の場合は0  \n",
    "南向きなら1  "
   ]
  },
  {
   "cell_type": "code",
   "execution_count": 46,
   "metadata": {},
   "outputs": [
    {
     "name": "stdout",
     "output_type": "stream",
     "text": [
      "+-------+-----+\n",
      "|前面道路：方位|count|\n",
      "+-------+-----+\n",
      "|      西| 4367|\n",
      "|     南西| 3326|\n",
      "|     未知|45563|\n",
      "|  接面道路無|  192|\n",
      "|     北東| 3257|\n",
      "|     北西| 3454|\n",
      "|      東| 4372|\n",
      "|      北| 4649|\n",
      "|     南東| 3580|\n",
      "|      南| 4826|\n",
      "+-------+-----+\n",
      "\n"
     ]
    }
   ],
   "source": [
    "sdf.groupby('前面道路：方位').count().show()"
   ]
  },
  {
   "cell_type": "code",
   "execution_count": 47,
   "metadata": {},
   "outputs": [
    {
     "name": "stdout",
     "output_type": "stream",
     "text": [
      "+-------+-----+\n",
      "|前面道路：方位|count|\n",
      "+-------+-----+\n",
      "|     -1|20291|\n",
      "|      1|11732|\n",
      "|      0|45563|\n",
      "+-------+-----+\n",
      "\n"
     ]
    }
   ],
   "source": [
    "direction = when(col('前面道路：方位')=='未知',0).when(col('前面道路：方位').like('%南%'),1).otherwise(-1)\n",
    "sdf = sdf.withColumn('前面道路：方位',direction)\n",
    "sdf.groupby('前面道路：方位').count().show()\n"
   ]
  },
  {
   "cell_type": "code",
   "execution_count": 48,
   "metadata": {},
   "outputs": [
    {
     "name": "stdout",
     "output_type": "stream",
     "text": [
      "+-----+-----+\n",
      "|土地の形状|count|\n",
      "+-----+-----+\n",
      "|  袋地等| 2324|\n",
      "|   未知|45582|\n",
      "| ほぼ台形| 2761|\n",
      "|ほぼ長方形|11028|\n",
      "|  正方形|  232|\n",
      "|  長方形| 7657|\n",
      "|  不整形| 3986|\n",
      "|   台形| 1222|\n",
      "|ほぼ正方形| 1456|\n",
      "| ほぼ整形| 1338|\n",
      "+-----+-----+\n",
      "\n"
     ]
    }
   ],
   "source": [
    "sdf.groupby('土地の形状').count().show()"
   ]
  },
  {
   "cell_type": "code",
   "execution_count": 49,
   "metadata": {},
   "outputs": [],
   "source": [
    "li1=['ほぼ台形','ほぼ長方形','ほぼ正方形','ほぼ整形']\n",
    "li2=['台形','長方形','正方形','整形']\n",
    "sdf = sdf.replace(li1,li2)"
   ]
  },
  {
   "cell_type": "code",
   "execution_count": 50,
   "metadata": {},
   "outputs": [
    {
     "name": "stdout",
     "output_type": "stream",
     "text": [
      "+------------------+-----+\n",
      "|                用途|count|\n",
      "+------------------+-----+\n",
      "|             住宅、倉庫|   45|\n",
      "|    共同住宅、倉庫、店舗、その他|    1|\n",
      "|         住宅、作業場、店舗|    8|\n",
      "|          共同住宅、その他|   16|\n",
      "|        住宅、共同住宅、工場|    3|\n",
      "|         住宅、作業場、倉庫|    7|\n",
      "|                住宅|62779|\n",
      "|       共同住宅、事務所、倉庫|   25|\n",
      "|          共同住宅、作業場|   16|\n",
      "|         住宅、倉庫、駐車場|    3|\n",
      "|共同住宅、事務所、作業場、倉庫、店舗|    1|\n",
      "|             住宅、店舗|  540|\n",
      "|       共同住宅、倉庫、その他|    2|\n",
      "|         住宅、工場、作業場|    1|\n",
      "|       住宅、共同住宅、駐車場|   11|\n",
      "|     住宅、工場、事務所、作業場|    1|\n",
      "|          共同住宅、駐車場|   67|\n",
      "|  住宅、事務所、作業場、倉庫、店舗|    1|\n",
      "|住宅、共同住宅、事務所、倉庫、駐車場|    1|\n",
      "|          住宅、工場、店舗|    1|\n",
      "+------------------+-----+\n",
      "only showing top 20 rows\n",
      "\n"
     ]
    }
   ],
   "source": [
    "sdf = sdf.filter(col('用途').like('%住宅%'))\n",
    "sdf.groupby('用途').count().show()"
   ]
  },
  {
   "cell_type": "code",
   "execution_count": 51,
   "metadata": {},
   "outputs": [
    {
     "name": "stdout",
     "output_type": "stream",
     "text": [
      "+-------+-----+\n",
      "|今後の利用目的|count|\n",
      "+-------+-----+\n",
      "|     住宅|59690|\n",
      "+-------+-----+\n",
      "\n"
     ]
    }
   ],
   "source": [
    "sdf = sdf.filter(col('今後の利用目的').like('%住宅%'))\n",
    "sdf.groupby('今後の利用目的').count().show()\n"
   ]
  },
  {
   "cell_type": "code",
   "execution_count": 52,
   "metadata": {},
   "outputs": [],
   "source": [
    "sdf = sdf.drop('用途','今後の利用目的')"
   ]
  },
  {
   "cell_type": "code",
   "execution_count": 53,
   "metadata": {},
   "outputs": [
    {
     "name": "stdout",
     "output_type": "stream",
     "text": [
      "+---+-----+\n",
      "| 改装|count|\n",
      "+---+-----+\n",
      "| 未知|29581|\n",
      "|未改装|21732|\n",
      "|改装済| 8377|\n",
      "+---+-----+\n",
      "\n"
     ]
    }
   ],
   "source": [
    "sdf.groupby('改装').count().show()"
   ]
  },
  {
   "cell_type": "markdown",
   "metadata": {},
   "source": [
    "これでいいと思います"
   ]
  },
  {
   "cell_type": "markdown",
   "metadata": {},
   "source": [
    "pipelineなどを作って、一回予測してみましょう"
   ]
  },
  {
   "cell_type": "markdown",
   "metadata": {},
   "source": [
    "その前に、もう一回スキーマを見ましょう"
   ]
  },
  {
   "cell_type": "code",
   "execution_count": 54,
   "metadata": {
    "scrolled": true
   },
   "outputs": [
    {
     "name": "stdout",
     "output_type": "stream",
     "text": [
      "root\n",
      " |-- 種類: string (nullable = true)\n",
      " |-- 最寄駅：距離: string (nullable = true)\n",
      " |-- 取引価格9: long (nullable = true)\n",
      " |-- 間取り: string (nullable = false)\n",
      " |-- 面積: string (nullable = true)\n",
      " |-- 土地の形状: string (nullable = false)\n",
      " |-- 間口: double (nullable = false)\n",
      " |-- 延床面積: string (nullable = true)\n",
      " |-- 建物の構造: string (nullable = false)\n",
      " |-- 前面道路：方位: integer (nullable = false)\n",
      " |-- 前面道路：種類: string (nullable = false)\n",
      " |-- 都市計画: string (nullable = true)\n",
      " |-- 建ぺい率: integer (nullable = true)\n",
      " |-- 容積率: integer (nullable = true)\n",
      " |-- 改装: string (nullable = false)\n",
      " |-- 取引の事情等: integer (nullable = false)\n",
      " |-- 年数: integer (nullable = true)\n",
      " |-- 平米単価: double (nullable = true)\n",
      " |-- 地区平米単価: double (nullable = true)\n",
      " |-- 駅平米単価: double (nullable = true)\n",
      " |-- is_l: integer (nullable = false)\n",
      " |-- is_d: integer (nullable = false)\n",
      " |-- is_s: integer (nullable = false)\n",
      " |-- 部屋数: string (nullable = false)\n",
      "\n"
     ]
    }
   ],
   "source": [
    "sdf.printSchema()"
   ]
  },
  {
   "cell_type": "markdown",
   "metadata": {},
   "source": [
    "型変換"
   ]
  },
  {
   "cell_type": "code",
   "execution_count": 55,
   "metadata": {},
   "outputs": [],
   "source": [
    "sdf = sdf.withColumn(\"最寄駅：距離\", sdf[\"最寄駅：距離\"].cast(IntegerType()))\n",
    "sdf = sdf.withColumn(\"面積\", sdf[\"面積\"].cast(IntegerType()))\n",
    "sdf = sdf.withColumn(\"延床面積\", sdf[\"延床面積\"].cast(IntegerType()))"
   ]
  },
  {
   "cell_type": "code",
   "execution_count": 56,
   "metadata": {},
   "outputs": [
    {
     "name": "stdout",
     "output_type": "stream",
     "text": [
      "root\n",
      " |-- 種類: string (nullable = true)\n",
      " |-- 最寄駅：距離: integer (nullable = true)\n",
      " |-- 取引価格9: long (nullable = true)\n",
      " |-- 間取り: string (nullable = false)\n",
      " |-- 面積: integer (nullable = true)\n",
      " |-- 土地の形状: string (nullable = false)\n",
      " |-- 間口: double (nullable = false)\n",
      " |-- 延床面積: integer (nullable = true)\n",
      " |-- 建物の構造: string (nullable = false)\n",
      " |-- 前面道路：方位: integer (nullable = false)\n",
      " |-- 前面道路：種類: string (nullable = false)\n",
      " |-- 都市計画: string (nullable = true)\n",
      " |-- 建ぺい率: integer (nullable = true)\n",
      " |-- 容積率: integer (nullable = true)\n",
      " |-- 改装: string (nullable = false)\n",
      " |-- 取引の事情等: integer (nullable = false)\n",
      " |-- 年数: integer (nullable = true)\n",
      " |-- 平米単価: double (nullable = true)\n",
      " |-- 地区平米単価: double (nullable = true)\n",
      " |-- 駅平米単価: double (nullable = true)\n",
      " |-- is_l: integer (nullable = false)\n",
      " |-- is_d: integer (nullable = false)\n",
      " |-- is_s: integer (nullable = false)\n",
      " |-- 部屋数: string (nullable = false)\n",
      "\n"
     ]
    }
   ],
   "source": [
    "sdf.printSchema()"
   ]
  },
  {
   "cell_type": "markdown",
   "metadata": {},
   "source": [
    "## ML"
   ]
  },
  {
   "cell_type": "code",
   "execution_count": 58,
   "metadata": {
    "scrolled": true
   },
   "outputs": [
    {
     "data": {
      "text/plain": [
       "['種類',\n",
       " '最寄駅：距離',\n",
       " '取引価格9',\n",
       " '間取り',\n",
       " '面積',\n",
       " '土地の形状',\n",
       " '間口',\n",
       " '延床面積',\n",
       " '建物の構造',\n",
       " '前面道路：方位',\n",
       " '前面道路：種類',\n",
       " '都市計画',\n",
       " '建ぺい率',\n",
       " '容積率',\n",
       " '改装',\n",
       " '取引の事情等',\n",
       " '年数',\n",
       " '平米単価',\n",
       " '地区平米単価',\n",
       " '駅平米単価',\n",
       " 'is_l',\n",
       " 'is_d',\n",
       " 'is_s',\n",
       " '部屋数']"
      ]
     },
     "execution_count": 58,
     "metadata": {},
     "output_type": "execute_result"
    }
   ],
   "source": [
    "cols = sdf.columns\n",
    "cols"
   ]
  },
  {
   "cell_type": "code",
   "execution_count": 59,
   "metadata": {},
   "outputs": [],
   "source": [
    "from pyspark.ml.feature import OneHotEncoderEstimator, StringIndexer, VectorAssembler\n",
    "categoricalColumns = ['種類', '間取り', '建物の構造','前面道路：種類' ,'都市計画','部屋数']\n",
    "stages = []\n",
    "for categoricalCol in categoricalColumns:\n",
    "    stringIndexer = StringIndexer(inputCol = categoricalCol, outputCol = categoricalCol + 'Index')\n",
    "    encoder = OneHotEncoderEstimator(inputCols=[stringIndexer.getOutputCol()], outputCols=[categoricalCol + \"classVec\"])\n",
    "    stages += [stringIndexer, encoder]\n",
    "\n",
    "numericCols = ['最寄駅：距離', '面積','間口', '前面道路：方位','延床面積', '建ぺい率', '容積率', '取引の事情等','年数','地区平米単価', '駅平米単価','平米単価','is_l', 'is_d', 'is_s']\n",
    "assemblerInputs = [c + \"classVec\" for c in categoricalColumns] + numericCols\n",
    "assembler = VectorAssembler(inputCols=assemblerInputs, outputCol=\"features\")\n",
    "stages += [assembler]"
   ]
  },
  {
   "cell_type": "code",
   "execution_count": 60,
   "metadata": {},
   "outputs": [],
   "source": [
    "from pyspark.ml import Pipeline\n",
    "pipeline = Pipeline(stages = stages)\n",
    "pipelineModel = pipeline.fit(sdf)\n",
    "sdf = pipelineModel.transform(sdf)"
   ]
  },
  {
   "cell_type": "code",
   "execution_count": 61,
   "metadata": {},
   "outputs": [
    {
     "data": {
      "text/plain": [
       "['features',\n",
       " '種類',\n",
       " '最寄駅：距離',\n",
       " '取引価格9',\n",
       " '間取り',\n",
       " '面積',\n",
       " '土地の形状',\n",
       " '間口',\n",
       " '延床面積',\n",
       " '建物の構造',\n",
       " '前面道路：方位',\n",
       " '前面道路：種類',\n",
       " '都市計画',\n",
       " '建ぺい率',\n",
       " '容積率',\n",
       " '改装',\n",
       " '取引の事情等',\n",
       " '年数',\n",
       " '平米単価',\n",
       " '地区平米単価',\n",
       " '駅平米単価',\n",
       " 'is_l',\n",
       " 'is_d',\n",
       " 'is_s',\n",
       " '部屋数']"
      ]
     },
     "execution_count": 61,
     "metadata": {},
     "output_type": "execute_result"
    }
   ],
   "source": [
    "selectedCols = ['features'] + cols\n",
    "selectedCols"
   ]
  },
  {
   "cell_type": "code",
   "execution_count": 62,
   "metadata": {},
   "outputs": [
    {
     "name": "stdout",
     "output_type": "stream",
     "text": [
      "root\n",
      " |-- features: vector (nullable = true)\n",
      " |-- 種類: string (nullable = true)\n",
      " |-- 最寄駅：距離: integer (nullable = true)\n",
      " |-- 取引価格9: long (nullable = true)\n",
      " |-- 間取り: string (nullable = false)\n",
      " |-- 面積: integer (nullable = true)\n",
      " |-- 土地の形状: string (nullable = false)\n",
      " |-- 間口: double (nullable = false)\n",
      " |-- 延床面積: integer (nullable = true)\n",
      " |-- 建物の構造: string (nullable = false)\n",
      " |-- 前面道路：方位: integer (nullable = false)\n",
      " |-- 前面道路：種類: string (nullable = false)\n",
      " |-- 都市計画: string (nullable = true)\n",
      " |-- 建ぺい率: integer (nullable = true)\n",
      " |-- 容積率: integer (nullable = true)\n",
      " |-- 改装: string (nullable = false)\n",
      " |-- 取引の事情等: integer (nullable = false)\n",
      " |-- 年数: integer (nullable = true)\n",
      " |-- 平米単価: double (nullable = true)\n",
      " |-- 地区平米単価: double (nullable = true)\n",
      " |-- 駅平米単価: double (nullable = true)\n",
      " |-- is_l: integer (nullable = false)\n",
      " |-- is_d: integer (nullable = false)\n",
      " |-- is_s: integer (nullable = false)\n",
      " |-- 部屋数: string (nullable = false)\n",
      "\n"
     ]
    }
   ],
   "source": [
    "sdf = sdf.select(selectedCols)\n",
    "sdf.printSchema()"
   ]
  },
  {
   "cell_type": "code",
   "execution_count": 63,
   "metadata": {},
   "outputs": [
    {
     "name": "stdout",
     "output_type": "stream",
     "text": [
      "train: 41867\n"
     ]
    }
   ],
   "source": [
    "train,test = sdf.randomSplit([0.7,0.3],seed = 0)\n",
    "print('train:',train.count())"
   ]
  },
  {
   "cell_type": "markdown",
   "metadata": {},
   "source": [
    "モデリング"
   ]
  },
  {
   "cell_type": "code",
   "execution_count": 64,
   "metadata": {},
   "outputs": [],
   "source": [
    "from pyspark.ml.regression import RandomForestRegressor\n",
    "\n",
    "dt = RandomForestRegressor(featuresCol = 'features',labelCol = '取引価格9')\n",
    "dtModel = dt.fit(train)\n",
    "dt_pred = dtModel.transform(test)\n"
   ]
  },
  {
   "cell_type": "code",
   "execution_count": 65,
   "metadata": {},
   "outputs": [
    {
     "name": "stdout",
     "output_type": "stream",
     "text": [
      "+--------------------+--------+\n",
      "|          prediction|   取引価格9|\n",
      "+--------------------+--------+\n",
      "| 3.841540291617562E7|45000000|\n",
      "| 5.950278046117029E7|70000000|\n",
      "| 5.715383223966868E7|63000000|\n",
      "| 5.434151423578999E7|57000000|\n",
      "| 6.085695443721857E7|69000000|\n",
      "|2.8346707740060605E7| 9600000|\n",
      "| 1.779623658212096E7|15000000|\n",
      "| 2.033467400080248E7|15000000|\n",
      "| 2.033467400080248E7|17000000|\n",
      "| 2.081104257659803E7|19000000|\n",
      "| 2.081104257659803E7|20000000|\n",
      "|  1.47323698491676E7|18000000|\n",
      "| 1.425600127337205E7| 8500000|\n",
      "|1.0362090834470537E7| 5500000|\n",
      "| 3.577189837148527E7|35000000|\n",
      "| 3.837467193172495E7|38000000|\n",
      "|5.4567595990676984E7|76000000|\n",
      "| 5.068877386031244E7|57000000|\n",
      "|  4.51376003071759E7|50000000|\n",
      "| 3.736583504129111E7|37000000|\n",
      "+--------------------+--------+\n",
      "only showing top 20 rows\n",
      "\n"
     ]
    }
   ],
   "source": [
    "dt_pred.select(\"prediction\",\"取引価格9\").show()"
   ]
  },
  {
   "cell_type": "code",
   "execution_count": 66,
   "metadata": {},
   "outputs": [
    {
     "name": "stdout",
     "output_type": "stream",
     "text": [
      "+--------------------+--------+------+--------+----+---+-----+---+----+-----+-------+-------+------------+----+---+---+------+---+------------------+------------------+-----------------+----+----+----+-----+--------------------+\n",
      "|            features|      種類|最寄駅：距離|   取引価格9| 間取り| 面積|土地の形状| 間口|延床面積|建物の構造|前面道路：方位|前面道路：種類|        都市計画|建ぺい率|容積率| 改装|取引の事情等| 年数|              平米単価|            地区平米単価|            駅平米単価|is_l|is_d|is_s|  部屋数|          prediction|\n",
      "+--------------------+--------+------+--------+----+---+-----+---+----+-----+-------+-------+------------+----+---+---+------+---+------------------+------------------+-----------------+----+----+----+-----+--------------------+\n",
      "|(88,[0,1,25,41,56...|中古マンション等|     1|45000000|  未知| 50|   未知|0.0|  50|   ＲＣ|      0|     未知|        商業地域|  80|500|未改装|     0|  8|          900000.0| 836232.6794536883|916922.5616003348|   0|   0|   0|部屋数未知| 3.841540291617562E7|\n",
      "|(88,[0,2,25,41,56...|中古マンション等|     3|70000000|３ＬＤＫ| 65|   未知|0.0|  65|   ＲＣ|      0|     未知|        商業地域|  80|500| 未知|     0| 11| 1076923.076923077| 836232.6794536883|916922.5616003348|   1|   1|   0|    5| 5.950278046117029E7|\n",
      "|(88,[0,2,25,41,57...|中古マンション等|     3|63000000|３ＬＤＫ| 65|   未知|0.0|  65|   ＲＣ|      0|     未知|第１種中高層住居専用地域|  60|200| 未知|     0|  6| 969230.7692307692| 836232.6794536883|916922.5616003348|   1|   1|   0|    5| 5.715383223966868E7|\n",
      "|(88,[0,2,25,41,57...|中古マンション等|     6|57000000|３ＬＤＫ| 70|   未知|0.0|  70|   ＲＣ|      0|     未知|第１種中高層住居専用地域|  60|200|未改装|     0| 16| 814285.7142857143| 836232.6794536883|916922.5616003348|   1|   1|   0|    5| 5.434151423578999E7|\n",
      "|(88,[0,2,25,41,57...|中古マンション等|     9|69000000|３ＬＤＫ| 70|   未知|0.0|  70|   ＲＣ|      0|     未知|第１種中高層住居専用地域|  60|200|未改装|     0|  7| 985714.2857142857| 836232.6794536883|916922.5616003348|   1|   1|   0|    5| 6.085695443721857E7|\n",
      "|(88,[0,2,28,41,57...|中古マンション等|     7| 9600000|３ＬＤＫ| 45|   未知|0.0|  45|  鉄骨造|      0|     未知|第１種中高層住居専用地域|  60|200|未改装|     0| 49|213333.33333333334| 836232.6794536883|916922.5616003348|   1|   1|   0|    5|2.8346707740060605E7|\n",
      "|(88,[0,3,25,41,59...|中古マンション等|     6|15000000|  １Ｋ| 15|   未知|0.0|  15|   ＲＣ|      0|     未知|     第１種住居地域|  60|400| 未知|     0| 22|         1000000.0|1004564.1334076918|916922.5616003348|   0|   0|   0|    1| 1.779623658212096E7|\n",
      "|(88,[0,3,25,41,59...|中古マンション等|     6|15000000|  １Ｋ| 20|   未知|0.0|  20|   ＲＣ|      0|     未知|     第１種住居地域|  60|400| 未知|     0| 14|          750000.0|1004564.1334076918|916922.5616003348|   0|   0|   0|    1| 2.033467400080248E7|\n",
      "|(88,[0,3,25,41,59...|中古マンション等|     7|17000000|  １Ｋ| 20|   未知|0.0|  20|   ＲＣ|      0|     未知|     第１種住居地域|  60|400|未改装|     0| 14|          850000.0|1004564.1334076918|916922.5616003348|   0|   0|   0|    1| 2.033467400080248E7|\n",
      "|(88,[0,3,25,41,59...|中古マンション等|     7|19000000|  １Ｋ| 20|   未知|0.0|  20|   ＲＣ|      0|     未知|     第１種住居地域|  60|400|未改装|     0| 14|          950000.0|1004564.1334076918|916922.5616003348|   0|   0|   0|    1| 2.081104257659803E7|\n",
      "|(88,[0,3,25,41,59...|中古マンション等|     8|20000000|  １Ｋ| 20|   未知|0.0|  20|   ＲＣ|      0|     未知|     第１種住居地域|  60|400|未改装|     0| 12|         1000000.0|1004564.1334076918|916922.5616003348|   0|   0|   0|    1| 2.081104257659803E7|\n",
      "|(88,[0,3,25,41,60...|中古マンション等|     5|18000000|  １Ｋ| 15|   未知|0.0|  15|   ＲＣ|      0|     未知|      近隣商業地域|  80|400|未改装|     0| 23|         1200000.0|1004564.1334076918|916922.5616003348|   0|   0|   0|    1|  1.47323698491676E7|\n",
      "|(88,[0,3,27,41,56...|中古マンション等|     0| 8500000|  １Ｋ| 10|   未知|0.0|  10|  ＳＲＣ|      0|     未知|        商業地域|  80|500|未改装|     0| 43|          850000.0| 836232.6794536883|916922.5616003348|   0|   0|   0|    1| 1.425600127337205E7|\n",
      "|(88,[0,3,27,41,56...|中古マンション等|     0| 5500000|  １Ｋ| 15|   未知|0.0|  15|  ＳＲＣ|      0|     未知|        商業地域|  80|500|未改装|     0| 43| 366666.6666666667| 836232.6794536883|916922.5616003348|   0|   0|   0|    1|1.0362090834470537E7|\n",
      "|(88,[0,4,25,41,56...|中古マンション等|     1|35000000|２ＬＤＫ| 50|   未知|0.0|  50|   ＲＣ|      0|     未知|        商業地域|  80|500|改装済|     0| 49|          700000.0| 836232.6794536883|916922.5616003348|   1|   1|   0|    3| 3.577189837148527E7|\n",
      "|(88,[0,4,25,41,56...|中古マンション等|     1|38000000|２ＬＤＫ| 50|   未知|0.0|  50|   ＲＣ|      0|     未知|        商業地域|  80|500|改装済|     0| 49|          760000.0| 836232.6794536883|916922.5616003348|   1|   1|   0|    3| 3.837467193172495E7|\n",
      "|(88,[0,4,25,41,56...|中古マンション等|     1|76000000|２ＬＤＫ| 60|   未知|0.0|  60|   ＲＣ|      0|     未知|        商業地域|  80|500|未改装|     0|  3|1266666.6666666667| 836232.6794536883|916922.5616003348|   1|   1|   0|    3|5.4567595990676984E7|\n",
      "|(88,[0,4,25,41,56...|中古マンション等|     1|57000000|２ＬＤＫ| 60|   未知|0.0|  60|   ＲＣ|      0|     未知|        商業地域|  80|500|未改装|     0|  8|          950000.0| 836232.6794536883|916922.5616003348|   1|   1|   0|    3| 5.068877386031244E7|\n",
      "|(88,[0,4,25,41,57...|中古マンション等|     5|50000000|２ＬＤＫ| 55|   未知|0.0|  55|   ＲＣ|      0|     未知|第１種中高層住居専用地域|  60|300|未改装|     0| 10| 909090.9090909091|1004564.1334076918|916922.5616003348|   1|   1|   0|    3|  4.51376003071759E7|\n",
      "|(88,[0,4,25,41,60...|中古マンション等|     6|37000000|２ＬＤＫ| 45|   未知|0.0|  45|   ＲＣ|      0|     未知|      近隣商業地域|  80|400|改装済|     0| 47| 822222.2222222222|1004564.1334076918|916922.5616003348|   1|   1|   0|    3| 3.736583504129111E7|\n",
      "+--------------------+--------+------+--------+----+---+-----+---+----+-----+-------+-------+------------+----+---+---+------+---+------------------+------------------+-----------------+----+----+----+-----+--------------------+\n",
      "only showing top 20 rows\n",
      "\n"
     ]
    }
   ],
   "source": [
    "dt_pred.show()"
   ]
  },
  {
   "cell_type": "code",
   "execution_count": 67,
   "metadata": {},
   "outputs": [],
   "source": [
    "from pyspark.ml.evaluation import RegressionEvaluator\n",
    "evaluator = RegressionEvaluator(\n",
    "    labelCol=\"取引価格9\", predictionCol=\"prediction\", metricName=\"r2\")"
   ]
  },
  {
   "cell_type": "code",
   "execution_count": 68,
   "metadata": {},
   "outputs": [
    {
     "data": {
      "text/plain": [
       "0.7147379144521949"
      ]
     },
     "execution_count": 68,
     "metadata": {},
     "output_type": "execute_result"
    }
   ],
   "source": [
    "evaluator.evaluate(dt_pred)"
   ]
  },
  {
   "cell_type": "markdown",
   "metadata": {},
   "source": [
    "R2スコアとして、そこまで悪くはない  \n",
    "これでオッケー"
   ]
  }
 ],
 "metadata": {
  "kernelspec": {
   "display_name": "Python 3",
   "language": "python",
   "name": "python3"
  },
  "language_info": {
   "codemirror_mode": {
    "name": "ipython",
    "version": 3
   },
   "file_extension": ".py",
   "mimetype": "text/x-python",
   "name": "python",
   "nbconvert_exporter": "python",
   "pygments_lexer": "ipython3",
   "version": "3.6.5"
  }
 },
 "nbformat": 4,
 "nbformat_minor": 2
}
