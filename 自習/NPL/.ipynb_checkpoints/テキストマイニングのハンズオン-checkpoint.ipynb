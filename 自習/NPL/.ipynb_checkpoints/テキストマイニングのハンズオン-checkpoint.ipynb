{
 "cells": [
  {
   "cell_type": "code",
   "execution_count": null,
   "metadata": {},
   "outputs": [],
   "source": [
    "from janome.tokenizer import Tokenizer\n"
   ]
  },
  {
   "cell_type": "code",
   "execution_count": null,
   "metadata": {},
   "outputs": [],
   "source": [
    "t = Tokenizer()\n",
    "tokens = t.tokenize('日本語ならまぁまぁわかるでしょう')"
   ]
  },
  {
   "cell_type": "code",
   "execution_count": null,
   "metadata": {},
   "outputs": [],
   "source": [
    "for token in tokens:\n",
    "    print(str(token))"
   ]
  },
  {
   "cell_type": "code",
   "execution_count": null,
   "metadata": {},
   "outputs": [],
   "source": [
    "file = open('text_fashion.txt')\n",
    "# txt"
   ]
  },
  {
   "cell_type": "code",
   "execution_count": null,
   "metadata": {},
   "outputs": [],
   "source": [
    "txt = fin.read().replace('\\n', '')\n",
    "fin.close()\n",
    "\n",
    "# テキストマイニング実行\n",
    "t = Tokenizer()\n",
    "tokens = t.tokenize(txt.decode('utf-8'))\n",
    "words = {}\n",
    "for token in tokens:\n",
    "    data = str(token).decode('utf-8').split()[1].split(',')\n",
    "    # 名詞のみ取得\n",
    "    if data[0] == u'名詞':\n",
    "        key = data[6]\n",
    "        if key not in words:\n",
    "            words[key] = 1\n",
    "        else:\n",
    "            words[key] += 1"
   ]
  },
  {
   "cell_type": "code",
   "execution_count": null,
   "metadata": {},
   "outputs": [],
   "source": []
  },
  {
   "cell_type": "code",
   "execution_count": null,
   "metadata": {},
   "outputs": [],
   "source": []
  },
  {
   "cell_type": "code",
   "execution_count": null,
   "metadata": {},
   "outputs": [],
   "source": []
  }
 ],
 "metadata": {
  "kernelspec": {
   "display_name": "Python 3",
   "language": "python",
   "name": "python3"
  },
  "language_info": {
   "codemirror_mode": {
    "name": "ipython",
    "version": 3
   },
   "file_extension": ".py",
   "mimetype": "text/x-python",
   "name": "python",
   "nbconvert_exporter": "python",
   "pygments_lexer": "ipython3",
   "version": "3.6.5"
  }
 },
 "nbformat": 4,
 "nbformat_minor": 2
}
