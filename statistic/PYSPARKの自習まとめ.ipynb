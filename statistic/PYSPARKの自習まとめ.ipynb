{
 "cells": [
  {
   "cell_type": "markdown",
   "metadata": {},
   "source": [
    "## pysparkの自習まとめ  "
   ]
  },
  {
   "cell_type": "markdown",
   "metadata": {},
   "source": [
    "1、並列処理の定義  \n",
    "並列処理は何でしょうか    \n",
    "グーグルで「spark 入門」と検索  \n",
    "下記が、わかりやすい記事です。  \n",
    "\n",
    "https://qiita.com/Hiroki11x/items/4f5129094da4c91955bc  \n",
    "https://www.slideshare.net/hadoopxnttdata/apache-spark-for-beginners-ntt-data-saruta-spark-conference-japan-2016  \n",
    "http://www.atmarkit.co.jp/ait/articles/1608/24/news014.html  "
   ]
  },
  {
   "cell_type": "markdown",
   "metadata": {},
   "source": [
    "2、RDDの定義（しっかり理解したほうがいいと思います。）  \n",
    "「SPARK RDDとは」と検索  "
   ]
  },
  {
   "cell_type": "markdown",
   "metadata": {},
   "source": [
    "3、環境構築  \n",
    "pysparkは、python言語でsparkを操作するAPIです。  \n",
    "使えるまでの環境構築はややこしいものです。  \n",
    "この記事は一番わかりやすいと思います。  \n",
    "https://changhsinlee.com/install-pyspark-windows-jupyter/  \n",
    "（注意：sparkのバージョンについて、最新バージョン(2.4.0)をインストールすると、エラーが出ますので、2.3.xのほうがおすすめ  ）  "
   ]
  },
  {
   "cell_type": "markdown",
   "metadata": {},
   "source": [
    "4、RDD操作、データフレーム操作  \n",
    "データフレーム操作がメイン（pandasとの比較とか）  \n",
    "pyspark入門  \n",
    "https://www.slideshare.net/tatsuyaatsumi/pythonapache-spark-at-pycon2016  \n",
    "RDDとDF操作の基本、RDDとDFの区別    \n",
    "https://techblog.recruitjobs.net/development/basic_data_types_of_spark\n",
    "pysparkによるDF操作\n",
    "https://blog.amedama.jp/entry/2018/03/03/173257  \n",
    "DF操作  \n",
    "https://fisproject.jp/2018/04/methods-of-the-pyspark-sql-dataframe-class/  \n",
    "\n",
    "公式ドキュメントによると、機械学習をする際に、データフレーム(RDDではなく)による機械学習がメインなので、上記リンクで、データフレームの操作になれるのに十分だと思います。  \n"
   ]
  },
  {
   "cell_type": "markdown",
   "metadata": {},
   "source": [
    "5、pysparkによるML  \n",
    "公式ドキュメント(日本語)  \n",
    "http://mogile.web.fc2.com/spark/spark200/ml-guide.html  \n",
    "公式のドキュメントが一番おすすめ。  \n",
    "実際動かしたい場合は"
   ]
  },
  {
   "cell_type": "markdown",
   "metadata": {},
   "source": [
    "5、実際のプロジェクトをやってみたほうがいいと思います。  \n",
    "\n",
    "Boston house price  \n",
    "Titanic  \n",
    "https://towardsdatascience.com/building-a-linear-regression-with-pyspark-and-mllib-d065c3ba246a  "
   ]
  },
  {
   "cell_type": "markdown",
   "metadata": {},
   "source": []
  },
  {
   "cell_type": "markdown",
   "metadata": {},
   "source": []
  },
  {
   "cell_type": "markdown",
   "metadata": {},
   "source": []
  },
  {
   "cell_type": "markdown",
   "metadata": {},
   "source": []
  },
  {
   "cell_type": "markdown",
   "metadata": {},
   "source": []
  },
  {
   "cell_type": "markdown",
   "metadata": {},
   "source": []
  },
  {
   "cell_type": "markdown",
   "metadata": {},
   "source": []
  },
  {
   "cell_type": "markdown",
   "metadata": {},
   "source": []
  },
  {
   "cell_type": "markdown",
   "metadata": {},
   "source": []
  },
  {
   "cell_type": "markdown",
   "metadata": {},
   "source": []
  },
  {
   "cell_type": "markdown",
   "metadata": {},
   "source": []
  },
  {
   "cell_type": "markdown",
   "metadata": {},
   "source": []
  },
  {
   "cell_type": "markdown",
   "metadata": {},
   "source": []
  },
  {
   "cell_type": "markdown",
   "metadata": {},
   "source": []
  },
  {
   "cell_type": "markdown",
   "metadata": {},
   "source": []
  },
  {
   "cell_type": "markdown",
   "metadata": {},
   "source": []
  },
  {
   "cell_type": "markdown",
   "metadata": {},
   "source": []
  },
  {
   "cell_type": "markdown",
   "metadata": {},
   "source": []
  },
  {
   "cell_type": "markdown",
   "metadata": {},
   "source": []
  },
  {
   "cell_type": "markdown",
   "metadata": {},
   "source": []
  },
  {
   "cell_type": "markdown",
   "metadata": {},
   "source": []
  }
 ],
 "metadata": {
  "kernelspec": {
   "display_name": "Python 3",
   "language": "python",
   "name": "python3"
  },
  "language_info": {
   "codemirror_mode": {
    "name": "ipython",
    "version": 3
   },
   "file_extension": ".py",
   "mimetype": "text/x-python",
   "name": "python",
   "nbconvert_exporter": "python",
   "pygments_lexer": "ipython3",
   "version": "3.6.5"
  }
 },
 "nbformat": 4,
 "nbformat_minor": 2
}
