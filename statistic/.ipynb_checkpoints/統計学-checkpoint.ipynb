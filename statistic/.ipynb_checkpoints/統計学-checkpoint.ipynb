{
 "cells": [
  {
   "cell_type": "markdown",
   "metadata": {},
   "source": [
    "https://bellcurve.jp/statistics/course/1664.html"
   ]
  },
  {
   "cell_type": "markdown",
   "metadata": {},
   "source": [
    "### 統計学の知識の漏れチェック  \n",
    "わからない知識はここにまとめておきます"
   ]
  },
  {
   "cell_type": "code",
   "execution_count": 2,
   "metadata": {},
   "outputs": [],
   "source": [
    "import pandas as pd\n",
    "import numpy as np\n",
    "from PIL import Image"
   ]
  },
  {
   "cell_type": "markdown",
   "metadata": {},
   "source": [
    "##### ローレンツ曲線"
   ]
  },
  {
   "cell_type": "markdown",
   "metadata": {},
   "source": [
    "階級の度数と実際のデータの度数"
   ]
  },
  {
   "cell_type": "code",
   "execution_count": 3,
   "metadata": {},
   "outputs": [
    {
     "data": {
      "image/png": "[encoded data removed]",
      "text/plain": [
       "<PIL.PngImagePlugin.PngImageFile image mode=P size=574x363 at 0x1E713290A20>"
      ]
     },
     "execution_count": 3,
     "metadata": {},
     "output_type": "execute_result"
    }
   ],
   "source": [
    "Image.open('./image/ローレンツ曲線.png')"
   ]
  },
  {
   "cell_type": "markdown",
   "metadata": {},
   "source": [
    "これを使って偏りを確認できます。  "
   ]
  },
  {
   "cell_type": "markdown",
   "metadata": {},
   "source": [
    "##### ジニ係数"
   ]
  },
  {
   "cell_type": "markdown",
   "metadata": {},
   "source": [
    "上記の曲線の破線と実線の真ん中の面積の二倍  \n",
    "偏りを表す  \n",
    "0~1が区間  "
   ]
  },
  {
   "cell_type": "markdown",
   "metadata": {},
   "source": [
    "##### 変動係数"
   ]
  },
  {
   "cell_type": "markdown",
   "metadata": {},
   "source": [
    "変動係数 = 標準偏差 /　平均値"
   ]
  },
  {
   "cell_type": "markdown",
   "metadata": {},
   "source": [
    "#### 事象 余事象 空事象 排反事象 和事象(or) 積事象(and)"
   ]
  },
  {
   "cell_type": "markdown",
   "metadata": {},
   "source": [
    "#### 条件付き確率 乗法定理 ベイズ定理 事前確率事後確率　　(復習ベース)"
   ]
  },
  {
   "cell_type": "markdown",
   "metadata": {},
   "source": [
    "##### 大数の法則 中心極限定理  \n",
    "大数の法則 (コインを投げるとき、回数が多ければ多いほど1/2に接近)  \n",
    "中心極限定理 （標本数が多ければ多いほど、標本平均の分布が（平均μ、分散σ^2/n）に近づく）  \n"
   ]
  },
  {
   "cell_type": "code",
   "execution_count": null,
   "metadata": {},
   "outputs": [],
   "source": []
  },
  {
   "cell_type": "markdown",
   "metadata": {},
   "source": [
    "#### 点推定 区間推定"
   ]
  },
  {
   "cell_type": "markdown",
   "metadata": {},
   "source": [
    "母集団の平均を算出したい  \n",
    "標本の平均で、算出したい  \n",
    "点推定は、標本の平均を母集団の平均にする  \n",
    "区間推定は、標本の平均で、母集団の平均を推定する  "
   ]
  },
  {
   "cell_type": "markdown",
   "metadata": {},
   "source": [
    "#### 点推定  \n",
    "標本分散と不偏分散  \n",
    "標本分散は、標本の分散  \n",
    "不偏分散は、s^2　= 1/(n-1)  * sum(xi - x平均)^2  \n",
    "標本分散は母分散より小さい  \n",
    "なので、(n-1)で調整  \n",
    "標準誤差(推定量の標準偏差)  \n",
    "分散/√n"
   ]
  },
  {
   "cell_type": "markdown",
   "metadata": {},
   "source": [
    "#### 区間推定"
   ]
  },
  {
   "cell_type": "markdown",
   "metadata": {},
   "source": [
    "母分散既知  \n",
    "　母分散の値を使い、標準正規分布を用いて信頼区間を算出する  \n",
    "母分散未知  \n",
    "　不偏分散の値を使い、t分布を用いて信頼区間を算出する\n",
    " "
   ]
  },
  {
   "cell_type": "markdown",
   "metadata": {},
   "source": [
    "母分散既知の場合  \n",
    "https://bellcurve.jp/statistics/course/8888.html\n",
    "\n",
    "標準化  \n",
    "(95%の場合)-1.96>標準化した結果>1.96  \n"
   ]
  },
  {
   "cell_type": "markdown",
   "metadata": {},
   "source": [
    "母分散がわからない場合 \n",
    "\n",
    "標準化とは言えないが、\n",
    "t=(x平均‐μ)/(√s^2/n)\n",
    "σじゃなくて、ここではSを使います！\n"
   ]
  },
  {
   "cell_type": "markdown",
   "metadata": {},
   "source": [
    "まだわからないところ  \n",
    "https://bellcurve.jp/statistics/course/8968.html  \n",
    "https://bellcurve.jp/statistics/course/9059.html  "
   ]
  },
  {
   "cell_type": "markdown",
   "metadata": {},
   "source": [
    "信頼区間を求める手順に関して、  \n",
    "母分散既知の場合\n",
    "\n",
    "1、標本平均　x平均　を求める  \n",
    "2、標本平均の標準化  \n",
    "　　(x平均-μ(母平均))/√(σ^2 /n)  \n",
    "3、95信頼区間の場合。標準正規分布表を調べる  \n",
    "4、μの区間を算出  \n",
    "意味：母平均が、95％の確率で推定した信頼区間に含まれる "
   ]
  },
  {
   "cell_type": "markdown",
   "metadata": {},
   "source": [
    "母分散未知の場合  \n",
    "もともと：\n",
    "x平均-1.96×√(母分散/n)<= μ <=x平均-1.96×√(母分散/n)  \n",
    "母分散が未知なので、  \n",
    "母分散を不偏分散に、  \n",
    "分布も標準正規分布じゃなくてT分布  \n",
    "\n",
    "t=(x平均-μ)/√(不偏分散/n)  \n",
    "t分布の表で、同じようなやり方で算出"
   ]
  },
  {
   "cell_type": "markdown",
   "metadata": {},
   "source": [
    "#### 統計的仮説検定\n",
    "確率をもとに結論を導く方法  \n",
    "仮説→仮説を検定するための「確率」を求める→判断基準を元に結論を導く  \n",
    "例：  \n",
    "https://bellcurve.jp/statistics/course/9309.html  \n",
    "コインの例、真のコイン50%表、偽のコイン 10％表  \n",
    "2回投げて、全部裏、コインは真？偽？  \n",
    "仮説：真  \n",
    "真の場合の確立(1/2)^4　6.25%  \n",
    "\n"
   ]
  },
  {
   "cell_type": "markdown",
   "metadata": {},
   "source": [
    "#### 帰無仮説と対立仮説  \n",
    "#### 有意水準と検出力  \n",
    "        検出力：1-β\n",
    "#### 第1種の過誤と第2種の過誤\n",
    "    第一種：正を検出できない  \n",
    "    第二種：正じゃないものを、正で検出\n",
    "#### 統計量Z \n",
    "    Z値=　(データ平均-母平均)/標準偏差\n",
    "#### 統計量T  \n",
    "    T値=　(データ平均-母平均)/標準誤差\n",
    "これで算出された値は、例えば-1.96だったら、確率が2.5%  "
   ]
  },
  {
   "cell_type": "markdown",
   "metadata": {},
   "source": [
    "検定の検証の流れ、  \n",
    "仮説を立てる→有意義水準を設定(5%)→統計検定量を決める→棄却ルールを決める→統計検定量をもとに算出\n"
   ]
  },
  {
   "cell_type": "markdown",
   "metadata": {},
   "source": [
    "#### 2標本t検定とは  \n",
    "2標本  \n",
    "2クラスの成績に差があるかどうか　とか  \n",
    "こっちを見たほうが早い\n",
    "https://bellcurve.jp/statistics/course/9427.html"
   ]
  },
  {
   "cell_type": "markdown",
   "metadata": {},
   "source": []
  },
  {
   "cell_type": "markdown",
   "metadata": {},
   "source": [
    "#### 母比率の検定"
   ]
  },
  {
   "cell_type": "markdown",
   "metadata": {},
   "source": [
    "#### 決定係数  \n",
    "残差変動　y真実-y予測  \n",
    "回帰変動　y予測-y平均  \n",
    "全変動　y真実-y平均  \n",
    "決定係数は、っ回帰変動が全変動に対してどれだけ多いか、＝残差変動が全変動に対してどれほど少ないか  "
   ]
  },
  {
   "cell_type": "markdown",
   "metadata": {},
   "source": [
    "#### 分散分析  \n",
    "分散分析はデータの「分散」をもとにした分析方法です。  \n",
    "F分布を用いて検定  \n",
    "分散分析表を作ります。  \n",
    "\n",
    "用語  \n",
    "要因：データの値に変化を与える要素  \n",
    "因子：要因の中でも、特に母平均に差をもたらすと考えられることから研究対象となる要因を指す  \n",
    "水準：1つの要因に含まれる項目(グループ)のこと  \n",
    "〇元配置：データに含まれる因子の数を表すもの  \n",
    "種類  \n",
    "一元配置分散分析  \n",
    "算数テスト、3組に分ける→1次元配置分散分析で、123組のテスト平均点に差があるかどうかを知れる  \n",
    "\n",
    "二次元  \n",
    "水準間の平均値に差はあるかどうかを確認できます。  \n",
    "2つの要因を組み合わせて、相乗効果があるかどうかも確認できます。  \n",
    "例：薬A、B、C、それぞれ10mg、20mgを投与  \n",
    "二元配置分散分析を用いて、薬の種類によって得られる平均値に差があるか  \n",
    "薬の投与量によって得られる平均値に差があるかどうかを知れる。  \n",
    "\n",
    "多次元"
   ]
  },
  {
   "cell_type": "markdown",
   "metadata": {},
   "source": [
    "一次元分散分析  \n",
    "ポイント  \n",
    "「データ全体の平均値から因子の各水準の平均値がどのくらいずれているか」  \n",
    "1、ずれを求める  \n",
    "　全体平均値からの各データのズレ  \n",
    "　全体平均値からの「因子の各水準の平均値」のずれ  \n",
    "　因子の各水準の平均値から各データのずれ  \n",
    " \n",
    "「全体の平均値からの各データのズレ」=「全体の平均値からの因子の各水準の平均値のズレ」+「それ以外のズレ」  \n",
    "2、分散分析表を作成、  \n",
    "　平方和に、1で算出した数値を入れる  \n",
    "　自由度は個数ー１を入れる  \n",
    "　要因と残差の平均平方を算出、平均平方は、平方和/自由度で求める  \n",
    "　F値は要因の平均平方/残差の平均平方  \n",
    "\n",
    "3、統計量Fから検定を行う  \n",
    "　有意水準5%では、F分布表を読み取る、対応する自由度が上記の場合、棄却域のf値を算出します。  \n",
    "　ステップ2で求められたF値は、STEP3の棄却域に入るかどうかを確認  "
   ]
  },
  {
   "cell_type": "markdown",
   "metadata": {},
   "source": [
    "分散分析表  "
   ]
  },
  {
   "cell_type": "markdown",
   "metadata": {},
   "source": [
    "\n",
    "\n",
    "|因子|平方和|自由度|平均平方|F値|\n",
    "| --- | --- | --- | --- | --- |  \n",
    "|要因|  \n",
    "|残差|  \n",
    "|全体|  \n",
    "\n"
   ]
  },
  {
   "cell_type": "markdown",
   "metadata": {},
   "source": [
    "二次元配置分散分析  \n",
    "中身は要因ではなく、因子にします。  "
   ]
  },
  {
   "cell_type": "markdown",
   "metadata": {},
   "source": [
    "|因子|平方和|自由度|平均平方|F値|  \n",
    "| --- | --- | --- | --- | --- |  \n",
    "|肥料の量|\n",
    "|土の種類|\t\t\t\t\n",
    "|肥料の量×土の種類|\n",
    "|残差|\n",
    "|全体|\t\t\t"
   ]
  },
  {
   "cell_type": "markdown",
   "metadata": {},
   "source": [
    "1、平方和を算出  \n",
    "　全体の平方和  \n",
    "　各因子(肥料の量、土の種類)の平方和  \n",
    "2、自由度算出  \n",
    "　全体の自由度  \n",
    "　各因子(肥料の量、土の種類)の自由度  \n",
    "3、交互作用 :肥料の量×土の種類  \n",
    "「肥料の量×土の種類」の平方和→データ全体の平均値からの肥料の量×土の種類の平均値のズレ  \n",
    "ここでの×っていうのは、値の掛け合わせではなく、組合せの意味です。  \n",
    "算出した値から、「データ全体の平均値からの肥料の量の各水準の平均値のズレ」と「全体の平均値からの土の種類の各水準の平均値のズレ」を引く  \n",
    "「肥料の量×土の種類」の自由度  \n",
    "　肥料の量の自由度×土の種類  \n",
    "4、残差自由度、全体から算出した値を引く  \n",
    "5、平均平方=平方和/自由度  \n",
    "6、残りF値の算出し方は、1次元に似ている  \n",
    "　肥料の量：平均平方/残差=29.49\n",
    "　土の種類：平均平方/残差=46.33\n",
    "\n"
   ]
  },
  {
   "cell_type": "code",
   "execution_count": 5,
   "metadata": {},
   "outputs": [
    {
     "data": {
      "image/png": "[encoded data removed]",
      "text/plain": [
       "<PIL.PngImagePlugin.PngImageFile image mode=P size=695x451 at 0x1E713392898>"
      ]
     },
     "execution_count": 5,
     "metadata": {},
     "output_type": "execute_result"
    }
   ],
   "source": [
    "Image.open('./image/二次元配置分散.png')"
   ]
  },
  {
   "cell_type": "markdown",
   "metadata": {},
   "source": [
    "相互作用に関して、  \n",
    "伸び率を見る  \n",
    "伸び率が同じでありば意味ない  \n",
    "土地Bの場合伸び率が高い  \n",
    "土地Bと肥料の量とは相乗効果がある  "
   ]
  },
  {
   "cell_type": "markdown",
   "metadata": {},
   "source": [
    "### 実験、計画など  \n",
    "実験3原則  \n",
    "反復（replication）  \n",
    "無作為化（randomization）  \n",
    "局所管理（local control） \n",
    "局所管理→実験を行う時間や場所を区切ってブロックを作り  \n",
    "→乱塊法\n"
   ]
  },
  {
   "cell_type": "markdown",
   "metadata": {},
   "source": [
    "効果量を再復習する必要がある"
   ]
  },
  {
   "cell_type": "markdown",
   "metadata": {},
   "source": [
    "効果量  \n",
    "「D族」「R族」  \n",
    "d族の効果量は差の大きさを表すもので、r族の効果量は相関の強さを表すものです。  \n",
    "d族の効果量には「Cohenのd」と「Hedgesのg」があります。  \n",
    "2標本の平均値がどれだけ離れているかを表します  \n"
   ]
  },
  {
   "cell_type": "markdown",
   "metadata": {},
   "source": [
    "検出力  \n",
    "1-β  \n",
    "サンプルサイズが大きいほど分布のばらつきは小さくなるため、検出力は大きくなります。  "
   ]
  }
 ],
 "metadata": {
  "kernelspec": {
   "display_name": "Python 3",
   "language": "python",
   "name": "python3"
  },
  "language_info": {
   "codemirror_mode": {
    "name": "ipython",
    "version": 3
   },
   "file_extension": ".py",
   "mimetype": "text/x-python",
   "name": "python",
   "nbconvert_exporter": "python",
   "pygments_lexer": "ipython3",
   "version": "3.6.5"
  }
 },
 "nbformat": 4,
 "nbformat_minor": 2
}
