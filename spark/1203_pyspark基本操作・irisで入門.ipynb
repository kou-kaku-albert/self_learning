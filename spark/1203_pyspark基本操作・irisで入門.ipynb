{
 "cells": [
  {
   "cell_type": "markdown",
   "metadata": {},
   "source": [
    "### iris"
   ]
  },
  {
   "cell_type": "code",
   "execution_count": 7,
   "metadata": {},
   "outputs": [],
   "source": [
    "import findspark\n",
    "findspark.init()\n",
    "import pyspark\n",
    "from pyspark.sql import SQLContext\n",
    "from pyspark.sql import SparkSession\n",
    "import pandas as pd \n"
   ]
  },
  {
   "cell_type": "code",
   "execution_count": 8,
   "metadata": {},
   "outputs": [
    {
     "data": {
      "text/html": [
       "<div>\n",
       "<style scoped>\n",
       "    .dataframe tbody tr th:only-of-type {\n",
       "        vertical-align: middle;\n",
       "    }\n",
       "\n",
       "    .dataframe tbody tr th {\n",
       "        vertical-align: top;\n",
       "    }\n",
       "\n",
       "    .dataframe thead th {\n",
       "        text-align: right;\n",
       "    }\n",
       "</style>\n",
       "<table border=\"1\" class=\"dataframe\">\n",
       "  <thead>\n",
       "    <tr style=\"text-align: right;\">\n",
       "      <th></th>\n",
       "      <th>sepal length (cm)</th>\n",
       "      <th>sepal width (cm)</th>\n",
       "      <th>petal length (cm)</th>\n",
       "      <th>petal width (cm)</th>\n",
       "    </tr>\n",
       "  </thead>\n",
       "  <tbody>\n",
       "    <tr>\n",
       "      <th>0</th>\n",
       "      <td>5.1</td>\n",
       "      <td>3.5</td>\n",
       "      <td>1.4</td>\n",
       "      <td>0.2</td>\n",
       "    </tr>\n",
       "    <tr>\n",
       "      <th>1</th>\n",
       "      <td>4.9</td>\n",
       "      <td>3.0</td>\n",
       "      <td>1.4</td>\n",
       "      <td>0.2</td>\n",
       "    </tr>\n",
       "    <tr>\n",
       "      <th>2</th>\n",
       "      <td>4.7</td>\n",
       "      <td>3.2</td>\n",
       "      <td>1.3</td>\n",
       "      <td>0.2</td>\n",
       "    </tr>\n",
       "    <tr>\n",
       "      <th>3</th>\n",
       "      <td>4.6</td>\n",
       "      <td>3.1</td>\n",
       "      <td>1.5</td>\n",
       "      <td>0.2</td>\n",
       "    </tr>\n",
       "    <tr>\n",
       "      <th>4</th>\n",
       "      <td>5.0</td>\n",
       "      <td>3.6</td>\n",
       "      <td>1.4</td>\n",
       "      <td>0.2</td>\n",
       "    </tr>\n",
       "  </tbody>\n",
       "</table>\n",
       "</div>"
      ],
      "text/plain": [
       "   sepal length (cm)  sepal width (cm)  petal length (cm)  petal width (cm)\n",
       "0                5.1               3.5                1.4               0.2\n",
       "1                4.9               3.0                1.4               0.2\n",
       "2                4.7               3.2                1.3               0.2\n",
       "3                4.6               3.1                1.5               0.2\n",
       "4                5.0               3.6                1.4               0.2"
      ]
     },
     "execution_count": 8,
     "metadata": {},
     "output_type": "execute_result"
    }
   ],
   "source": [
    "from sklearn.datasets import load_iris\n",
    "iris = load_iris()\n",
    "pdf = pd.DataFrame(data=iris.data,columns=iris.feature_names)\n",
    "pdf.head(5)"
   ]
  },
  {
   "cell_type": "code",
   "execution_count": 9,
   "metadata": {},
   "outputs": [],
   "source": [
    "# sqlContext = SQLContext(df)\n",
    "spark = SparkSession.builder.getOrCreate()\n",
    "sdf = spark.createDataFrame(pdf)\n"
   ]
  },
  {
   "cell_type": "code",
   "execution_count": 10,
   "metadata": {},
   "outputs": [
    {
     "data": {
      "text/plain": [
       "[Row(sepal length (cm)=5.1, sepal width (cm)=3.5, petal length (cm)=1.4, petal width (cm)=0.2),\n",
       " Row(sepal length (cm)=4.9, sepal width (cm)=3.0, petal length (cm)=1.4, petal width (cm)=0.2),\n",
       " Row(sepal length (cm)=4.7, sepal width (cm)=3.2, petal length (cm)=1.3, petal width (cm)=0.2),\n",
       " Row(sepal length (cm)=4.6, sepal width (cm)=3.1, petal length (cm)=1.5, petal width (cm)=0.2),\n",
       " Row(sepal length (cm)=5.0, sepal width (cm)=3.6, petal length (cm)=1.4, petal width (cm)=0.2),\n",
       " Row(sepal length (cm)=5.4, sepal width (cm)=3.9, petal length (cm)=1.7, petal width (cm)=0.4),\n",
       " Row(sepal length (cm)=4.6, sepal width (cm)=3.4, petal length (cm)=1.4, petal width (cm)=0.3),\n",
       " Row(sepal length (cm)=5.0, sepal width (cm)=3.4, petal length (cm)=1.5, petal width (cm)=0.2),\n",
       " Row(sepal length (cm)=4.4, sepal width (cm)=2.9, petal length (cm)=1.4, petal width (cm)=0.2),\n",
       " Row(sepal length (cm)=4.9, sepal width (cm)=3.1, petal length (cm)=1.5, petal width (cm)=0.1)]"
      ]
     },
     "execution_count": 10,
     "metadata": {},
     "output_type": "execute_result"
    }
   ],
   "source": [
    "sdf.take(10)"
   ]
  },
  {
   "cell_type": "code",
   "execution_count": 11,
   "metadata": {},
   "outputs": [
    {
     "data": {
      "text/html": [
       "<div>\n",
       "<style scoped>\n",
       "    .dataframe tbody tr th:only-of-type {\n",
       "        vertical-align: middle;\n",
       "    }\n",
       "\n",
       "    .dataframe tbody tr th {\n",
       "        vertical-align: top;\n",
       "    }\n",
       "\n",
       "    .dataframe thead th {\n",
       "        text-align: right;\n",
       "    }\n",
       "</style>\n",
       "<table border=\"1\" class=\"dataframe\">\n",
       "  <thead>\n",
       "    <tr style=\"text-align: right;\">\n",
       "      <th></th>\n",
       "      <th>sepal length (cm)</th>\n",
       "      <th>sepal width (cm)</th>\n",
       "      <th>petal length (cm)</th>\n",
       "      <th>petal width (cm)</th>\n",
       "    </tr>\n",
       "  </thead>\n",
       "  <tbody>\n",
       "    <tr>\n",
       "      <th>0</th>\n",
       "      <td>5.1</td>\n",
       "      <td>3.5</td>\n",
       "      <td>1.4</td>\n",
       "      <td>0.2</td>\n",
       "    </tr>\n",
       "    <tr>\n",
       "      <th>1</th>\n",
       "      <td>4.9</td>\n",
       "      <td>3.0</td>\n",
       "      <td>1.4</td>\n",
       "      <td>0.2</td>\n",
       "    </tr>\n",
       "    <tr>\n",
       "      <th>2</th>\n",
       "      <td>4.7</td>\n",
       "      <td>3.2</td>\n",
       "      <td>1.3</td>\n",
       "      <td>0.2</td>\n",
       "    </tr>\n",
       "    <tr>\n",
       "      <th>3</th>\n",
       "      <td>4.6</td>\n",
       "      <td>3.1</td>\n",
       "      <td>1.5</td>\n",
       "      <td>0.2</td>\n",
       "    </tr>\n",
       "    <tr>\n",
       "      <th>4</th>\n",
       "      <td>5.0</td>\n",
       "      <td>3.6</td>\n",
       "      <td>1.4</td>\n",
       "      <td>0.2</td>\n",
       "    </tr>\n",
       "  </tbody>\n",
       "</table>\n",
       "</div>"
      ],
      "text/plain": [
       "   sepal length (cm)  sepal width (cm)  petal length (cm)  petal width (cm)\n",
       "0                5.1               3.5                1.4               0.2\n",
       "1                4.9               3.0                1.4               0.2\n",
       "2                4.7               3.2                1.3               0.2\n",
       "3                4.6               3.1                1.5               0.2\n",
       "4                5.0               3.6                1.4               0.2"
      ]
     },
     "execution_count": 11,
     "metadata": {},
     "output_type": "execute_result"
    }
   ],
   "source": [
    "pdf.head(5)\n"
   ]
  },
  {
   "cell_type": "code",
   "execution_count": 12,
   "metadata": {},
   "outputs": [
    {
     "data": {
      "text/plain": [
       "[Row(sepal length (cm)=5.1, sepal width (cm)=3.5, petal length (cm)=1.4, petal width (cm)=0.2),\n",
       " Row(sepal length (cm)=4.9, sepal width (cm)=3.0, petal length (cm)=1.4, petal width (cm)=0.2),\n",
       " Row(sepal length (cm)=4.7, sepal width (cm)=3.2, petal length (cm)=1.3, petal width (cm)=0.2),\n",
       " Row(sepal length (cm)=4.6, sepal width (cm)=3.1, petal length (cm)=1.5, petal width (cm)=0.2),\n",
       " Row(sepal length (cm)=5.0, sepal width (cm)=3.6, petal length (cm)=1.4, petal width (cm)=0.2)]"
      ]
     },
     "execution_count": 12,
     "metadata": {},
     "output_type": "execute_result"
    }
   ],
   "source": [
    "sdf.head(5)"
   ]
  },
  {
   "cell_type": "code",
   "execution_count": 14,
   "metadata": {},
   "outputs": [
    {
     "data": {
      "text/plain": [
       "sepal length (cm)    float64\n",
       "sepal width (cm)     float64\n",
       "petal length (cm)    float64\n",
       "petal width (cm)     float64\n",
       "dtype: object"
      ]
     },
     "execution_count": 14,
     "metadata": {},
     "output_type": "execute_result"
    }
   ],
   "source": [
    "pdf.dtypes"
   ]
  },
  {
   "cell_type": "code",
   "execution_count": 15,
   "metadata": {},
   "outputs": [
    {
     "data": {
      "text/plain": [
       "[('sepal length (cm)', 'double'),\n",
       " ('sepal width (cm)', 'double'),\n",
       " ('petal length (cm)', 'double'),\n",
       " ('petal width (cm)', 'double')]"
      ]
     },
     "execution_count": 15,
     "metadata": {},
     "output_type": "execute_result"
    }
   ],
   "source": [
    "sdf.dtypes"
   ]
  },
  {
   "cell_type": "code",
   "execution_count": 16,
   "metadata": {},
   "outputs": [
    {
     "data": {
      "text/html": [
       "<div>\n",
       "<style scoped>\n",
       "    .dataframe tbody tr th:only-of-type {\n",
       "        vertical-align: middle;\n",
       "    }\n",
       "\n",
       "    .dataframe tbody tr th {\n",
       "        vertical-align: top;\n",
       "    }\n",
       "\n",
       "    .dataframe thead th {\n",
       "        text-align: right;\n",
       "    }\n",
       "</style>\n",
       "<table border=\"1\" class=\"dataframe\">\n",
       "  <thead>\n",
       "    <tr style=\"text-align: right;\">\n",
       "      <th></th>\n",
       "      <th>sepal length (cm)</th>\n",
       "      <th>sepal width (cm)</th>\n",
       "      <th>petal length (cm)</th>\n",
       "      <th>petal width (cm)</th>\n",
       "    </tr>\n",
       "  </thead>\n",
       "  <tbody>\n",
       "    <tr>\n",
       "      <th>count</th>\n",
       "      <td>150.000000</td>\n",
       "      <td>150.000000</td>\n",
       "      <td>150.000000</td>\n",
       "      <td>150.000000</td>\n",
       "    </tr>\n",
       "    <tr>\n",
       "      <th>mean</th>\n",
       "      <td>5.843333</td>\n",
       "      <td>3.054000</td>\n",
       "      <td>3.758667</td>\n",
       "      <td>1.198667</td>\n",
       "    </tr>\n",
       "    <tr>\n",
       "      <th>std</th>\n",
       "      <td>0.828066</td>\n",
       "      <td>0.433594</td>\n",
       "      <td>1.764420</td>\n",
       "      <td>0.763161</td>\n",
       "    </tr>\n",
       "    <tr>\n",
       "      <th>min</th>\n",
       "      <td>4.300000</td>\n",
       "      <td>2.000000</td>\n",
       "      <td>1.000000</td>\n",
       "      <td>0.100000</td>\n",
       "    </tr>\n",
       "    <tr>\n",
       "      <th>25%</th>\n",
       "      <td>5.100000</td>\n",
       "      <td>2.800000</td>\n",
       "      <td>1.600000</td>\n",
       "      <td>0.300000</td>\n",
       "    </tr>\n",
       "    <tr>\n",
       "      <th>50%</th>\n",
       "      <td>5.800000</td>\n",
       "      <td>3.000000</td>\n",
       "      <td>4.350000</td>\n",
       "      <td>1.300000</td>\n",
       "    </tr>\n",
       "    <tr>\n",
       "      <th>75%</th>\n",
       "      <td>6.400000</td>\n",
       "      <td>3.300000</td>\n",
       "      <td>5.100000</td>\n",
       "      <td>1.800000</td>\n",
       "    </tr>\n",
       "    <tr>\n",
       "      <th>max</th>\n",
       "      <td>7.900000</td>\n",
       "      <td>4.400000</td>\n",
       "      <td>6.900000</td>\n",
       "      <td>2.500000</td>\n",
       "    </tr>\n",
       "  </tbody>\n",
       "</table>\n",
       "</div>"
      ],
      "text/plain": [
       "       sepal length (cm)  sepal width (cm)  petal length (cm)  \\\n",
       "count         150.000000        150.000000         150.000000   \n",
       "mean            5.843333          3.054000           3.758667   \n",
       "std             0.828066          0.433594           1.764420   \n",
       "min             4.300000          2.000000           1.000000   \n",
       "25%             5.100000          2.800000           1.600000   \n",
       "50%             5.800000          3.000000           4.350000   \n",
       "75%             6.400000          3.300000           5.100000   \n",
       "max             7.900000          4.400000           6.900000   \n",
       "\n",
       "       petal width (cm)  \n",
       "count        150.000000  \n",
       "mean           1.198667  \n",
       "std            0.763161  \n",
       "min            0.100000  \n",
       "25%            0.300000  \n",
       "50%            1.300000  \n",
       "75%            1.800000  \n",
       "max            2.500000  "
      ]
     },
     "execution_count": 16,
     "metadata": {},
     "output_type": "execute_result"
    }
   ],
   "source": [
    "pdf.describe()"
   ]
  },
  {
   "cell_type": "code",
   "execution_count": 47,
   "metadata": {},
   "outputs": [
    {
     "name": "stdout",
     "output_type": "stream",
     "text": [
      "+-------+------------------+------------------+-----------------+------------------+\n",
      "|summary| sepal length (cm)|  sepal width (cm)|petal length (cm)|  petal width (cm)|\n",
      "+-------+------------------+------------------+-----------------+------------------+\n",
      "|  count|               150|               150|              150|               150|\n",
      "|   mean| 5.843333333333334|3.0540000000000003|3.758666666666666|1.1986666666666668|\n",
      "| stddev|0.8280661279778623|0.4335943113621736|1.764420419952263|0.7631607417008411|\n",
      "|    min|               4.3|               2.0|              1.0|               0.1|\n",
      "|    25%|               5.1|               2.8|              1.6|               0.3|\n",
      "|    50%|               5.8|               3.0|              4.3|               1.3|\n",
      "|    75%|               6.4|               3.3|              5.1|               1.8|\n",
      "|    max|               7.9|               4.4|              6.9|               2.5|\n",
      "+-------+------------------+------------------+-----------------+------------------+\n",
      "\n"
     ]
    }
   ],
   "source": [
    "sdf.summary().show()"
   ]
  },
  {
   "cell_type": "code",
   "execution_count": 18,
   "metadata": {
    "scrolled": true
   },
   "outputs": [
    {
     "name": "stdout",
     "output_type": "stream",
     "text": [
      "+-------+------------------+------------------+-----------------+------------------+\n",
      "|summary| sepal length (cm)|  sepal width (cm)|petal length (cm)|  petal width (cm)|\n",
      "+-------+------------------+------------------+-----------------+------------------+\n",
      "|  count|               150|               150|              150|               150|\n",
      "|   mean| 5.843333333333334|3.0540000000000003|3.758666666666666|1.1986666666666668|\n",
      "| stddev|0.8280661279778623|0.4335943113621736|1.764420419952263|0.7631607417008411|\n",
      "|    min|               4.3|               2.0|              1.0|               0.1|\n",
      "|    max|               7.9|               4.4|              6.9|               2.5|\n",
      "+-------+------------------+------------------+-----------------+------------------+\n",
      "\n"
     ]
    }
   ],
   "source": [
    "sdf.describe().show()"
   ]
  },
  {
   "cell_type": "code",
   "execution_count": 21,
   "metadata": {},
   "outputs": [
    {
     "name": "stdout",
     "output_type": "stream",
     "text": [
      "['sepal length (cm)', 'sepal width (cm)', 'petal length (cm)', 'petal width (cm)']\n",
      "---------\n",
      "Index(['sepal length (cm)', 'sepal width (cm)', 'petal length (cm)',\n",
      "       'petal width (cm)'],\n",
      "      dtype='object')\n"
     ]
    }
   ],
   "source": [
    "print(sdf.columns)\n",
    "print('---------')\n",
    "print(pdf.columns)"
   ]
  },
  {
   "cell_type": "code",
   "execution_count": 27,
   "metadata": {},
   "outputs": [
    {
     "name": "stdout",
     "output_type": "stream",
     "text": [
      "+----------------+----------------+\n",
      "|sepal width (cm)|sepal width (cm)|\n",
      "+----------------+----------------+\n",
      "|             3.5|             3.5|\n",
      "|             3.0|             3.0|\n",
      "|             3.2|             3.2|\n",
      "|             3.1|             3.1|\n",
      "|             3.6|             3.6|\n",
      "|             3.9|             3.9|\n",
      "|             3.4|             3.4|\n",
      "|             3.4|             3.4|\n",
      "|             2.9|             2.9|\n",
      "|             3.1|             3.1|\n",
      "|             3.7|             3.7|\n",
      "|             3.4|             3.4|\n",
      "|             3.0|             3.0|\n",
      "|             3.0|             3.0|\n",
      "|             4.0|             4.0|\n",
      "|             4.4|             4.4|\n",
      "|             3.9|             3.9|\n",
      "|             3.5|             3.5|\n",
      "|             3.8|             3.8|\n",
      "|             3.8|             3.8|\n",
      "+----------------+----------------+\n",
      "only showing top 20 rows\n",
      "\n"
     ]
    }
   ],
   "source": [
    "sdf[['sepal width (cm)','sepal width (cm)']].show()"
   ]
  },
  {
   "cell_type": "code",
   "execution_count": 30,
   "metadata": {},
   "outputs": [
    {
     "name": "stdout",
     "output_type": "stream",
     "text": [
      "+-----------------+----------------+-----------------+----------------+\n",
      "|sepal length (cm)|sepal width (cm)|petal length (cm)|petal width (cm)|\n",
      "+-----------------+----------------+-----------------+----------------+\n",
      "|              5.1|             3.5|              1.4|             0.2|\n",
      "|              5.1|             3.5|              1.4|             0.3|\n",
      "|              5.1|             3.8|              1.5|             0.3|\n",
      "|              5.1|             3.7|              1.5|             0.4|\n",
      "|              5.1|             3.3|              1.7|             0.5|\n",
      "|              5.1|             3.4|              1.5|             0.2|\n",
      "|              5.1|             3.8|              1.9|             0.4|\n",
      "|              5.1|             3.8|              1.6|             0.2|\n",
      "|              5.1|             2.5|              3.0|             1.1|\n",
      "+-----------------+----------------+-----------------+----------------+\n",
      "\n"
     ]
    }
   ],
   "source": [
    "sdf[sdf['sepal length (cm)']==5.1].show()"
   ]
  },
  {
   "cell_type": "code",
   "execution_count": 32,
   "metadata": {},
   "outputs": [
    {
     "data": {
      "text/plain": [
       "array([0, 0, 0, 0, 0, 0, 0, 0, 0, 0, 0, 0, 0, 0, 0, 0, 0, 0, 0, 0, 0, 0,\n",
       "       0, 0, 0, 0, 0, 0, 0, 0, 0, 0, 0, 0, 0, 0, 0, 0, 0, 0, 0, 0, 0, 0,\n",
       "       0, 0, 0, 0, 0, 0, 1, 1, 1, 1, 1, 1, 1, 1, 1, 1, 1, 1, 1, 1, 1, 1,\n",
       "       1, 1, 1, 1, 1, 1, 1, 1, 1, 1, 1, 1, 1, 1, 1, 1, 1, 1, 1, 1, 1, 1,\n",
       "       1, 1, 1, 1, 1, 1, 1, 1, 1, 1, 1, 1, 2, 2, 2, 2, 2, 2, 2, 2, 2, 2,\n",
       "       2, 2, 2, 2, 2, 2, 2, 2, 2, 2, 2, 2, 2, 2, 2, 2, 2, 2, 2, 2, 2, 2,\n",
       "       2, 2, 2, 2, 2, 2, 2, 2, 2, 2, 2, 2, 2, 2, 2, 2, 2, 2])"
      ]
     },
     "execution_count": 32,
     "metadata": {},
     "output_type": "execute_result"
    }
   ],
   "source": [
    "iris.target"
   ]
  },
  {
   "cell_type": "code",
   "execution_count": 36,
   "metadata": {},
   "outputs": [
    {
     "data": {
      "text/plain": [
       "[Row(sepal length (cm)=4.7, sepal width (cm)=3.2, petal length (cm)=1.3, petal width (cm)=0.2),\n",
       " Row(sepal length (cm)=4.6, sepal width (cm)=3.1, petal length (cm)=1.5, petal width (cm)=0.2),\n",
       " Row(sepal length (cm)=5.0, sepal width (cm)=3.6, petal length (cm)=1.4, petal width (cm)=0.2)]"
      ]
     },
     "execution_count": 36,
     "metadata": {},
     "output_type": "execute_result"
    }
   ],
   "source": [
    "[c for i,c in enumerate(sdf.collect()) if i in (2,3,4)]"
   ]
  },
  {
   "cell_type": "code",
   "execution_count": 38,
   "metadata": {},
   "outputs": [
    {
     "name": "stdout",
     "output_type": "stream",
     "text": [
      "+-----------------+----------------+-----------------+----------------+\n",
      "|sepal length (cm)|sepal width (cm)|petal length (cm)|petal width (cm)|\n",
      "+-----------------+----------------+-----------------+----------------+\n",
      "|              4.7|             3.2|              1.3|             0.2|\n",
      "|              4.6|             3.1|              1.5|             0.2|\n",
      "|              5.0|             3.6|              1.4|             0.2|\n",
      "+-----------------+----------------+-----------------+----------------+\n",
      "\n"
     ]
    }
   ],
   "source": [
    "spark.createDataFrame([c for i,c in enumerate(sdf.collect()) if i in (2,3,4)]).show()"
   ]
  },
  {
   "cell_type": "code",
   "execution_count": 35,
   "metadata": {},
   "outputs": [
    {
     "data": {
      "text/plain": [
       "[Row(sepal length (cm)=5.1, sepal width (cm)=3.5, petal length (cm)=1.4, petal width (cm)=0.2),\n",
       " Row(sepal length (cm)=4.9, sepal width (cm)=3.0, petal length (cm)=1.4, petal width (cm)=0.2),\n",
       " Row(sepal length (cm)=4.7, sepal width (cm)=3.2, petal length (cm)=1.3, petal width (cm)=0.2),\n",
       " Row(sepal length (cm)=4.6, sepal width (cm)=3.1, petal length (cm)=1.5, petal width (cm)=0.2),\n",
       " Row(sepal length (cm)=5.0, sepal width (cm)=3.6, petal length (cm)=1.4, petal width (cm)=0.2),\n",
       " Row(sepal length (cm)=5.4, sepal width (cm)=3.9, petal length (cm)=1.7, petal width (cm)=0.4),\n",
       " Row(sepal length (cm)=4.6, sepal width (cm)=3.4, petal length (cm)=1.4, petal width (cm)=0.3),\n",
       " Row(sepal length (cm)=5.0, sepal width (cm)=3.4, petal length (cm)=1.5, petal width (cm)=0.2),\n",
       " Row(sepal length (cm)=4.4, sepal width (cm)=2.9, petal length (cm)=1.4, petal width (cm)=0.2),\n",
       " Row(sepal length (cm)=4.9, sepal width (cm)=3.1, petal length (cm)=1.5, petal width (cm)=0.1),\n",
       " Row(sepal length (cm)=5.4, sepal width (cm)=3.7, petal length (cm)=1.5, petal width (cm)=0.2),\n",
       " Row(sepal length (cm)=4.8, sepal width (cm)=3.4, petal length (cm)=1.6, petal width (cm)=0.2),\n",
       " Row(sepal length (cm)=4.8, sepal width (cm)=3.0, petal length (cm)=1.4, petal width (cm)=0.1),\n",
       " Row(sepal length (cm)=4.3, sepal width (cm)=3.0, petal length (cm)=1.1, petal width (cm)=0.1),\n",
       " Row(sepal length (cm)=5.8, sepal width (cm)=4.0, petal length (cm)=1.2, petal width (cm)=0.2),\n",
       " Row(sepal length (cm)=5.7, sepal width (cm)=4.4, petal length (cm)=1.5, petal width (cm)=0.4),\n",
       " Row(sepal length (cm)=5.4, sepal width (cm)=3.9, petal length (cm)=1.3, petal width (cm)=0.4),\n",
       " Row(sepal length (cm)=5.1, sepal width (cm)=3.5, petal length (cm)=1.4, petal width (cm)=0.3),\n",
       " Row(sepal length (cm)=5.7, sepal width (cm)=3.8, petal length (cm)=1.7, petal width (cm)=0.3),\n",
       " Row(sepal length (cm)=5.1, sepal width (cm)=3.8, petal length (cm)=1.5, petal width (cm)=0.3),\n",
       " Row(sepal length (cm)=5.4, sepal width (cm)=3.4, petal length (cm)=1.7, petal width (cm)=0.2),\n",
       " Row(sepal length (cm)=5.1, sepal width (cm)=3.7, petal length (cm)=1.5, petal width (cm)=0.4),\n",
       " Row(sepal length (cm)=4.6, sepal width (cm)=3.6, petal length (cm)=1.0, petal width (cm)=0.2),\n",
       " Row(sepal length (cm)=5.1, sepal width (cm)=3.3, petal length (cm)=1.7, petal width (cm)=0.5),\n",
       " Row(sepal length (cm)=4.8, sepal width (cm)=3.4, petal length (cm)=1.9, petal width (cm)=0.2),\n",
       " Row(sepal length (cm)=5.0, sepal width (cm)=3.0, petal length (cm)=1.6, petal width (cm)=0.2),\n",
       " Row(sepal length (cm)=5.0, sepal width (cm)=3.4, petal length (cm)=1.6, petal width (cm)=0.4),\n",
       " Row(sepal length (cm)=5.2, sepal width (cm)=3.5, petal length (cm)=1.5, petal width (cm)=0.2),\n",
       " Row(sepal length (cm)=5.2, sepal width (cm)=3.4, petal length (cm)=1.4, petal width (cm)=0.2),\n",
       " Row(sepal length (cm)=4.7, sepal width (cm)=3.2, petal length (cm)=1.6, petal width (cm)=0.2),\n",
       " Row(sepal length (cm)=4.8, sepal width (cm)=3.1, petal length (cm)=1.6, petal width (cm)=0.2),\n",
       " Row(sepal length (cm)=5.4, sepal width (cm)=3.4, petal length (cm)=1.5, petal width (cm)=0.4),\n",
       " Row(sepal length (cm)=5.2, sepal width (cm)=4.1, petal length (cm)=1.5, petal width (cm)=0.1),\n",
       " Row(sepal length (cm)=5.5, sepal width (cm)=4.2, petal length (cm)=1.4, petal width (cm)=0.2),\n",
       " Row(sepal length (cm)=4.9, sepal width (cm)=3.1, petal length (cm)=1.5, petal width (cm)=0.1),\n",
       " Row(sepal length (cm)=5.0, sepal width (cm)=3.2, petal length (cm)=1.2, petal width (cm)=0.2),\n",
       " Row(sepal length (cm)=5.5, sepal width (cm)=3.5, petal length (cm)=1.3, petal width (cm)=0.2),\n",
       " Row(sepal length (cm)=4.9, sepal width (cm)=3.1, petal length (cm)=1.5, petal width (cm)=0.1),\n",
       " Row(sepal length (cm)=4.4, sepal width (cm)=3.0, petal length (cm)=1.3, petal width (cm)=0.2),\n",
       " Row(sepal length (cm)=5.1, sepal width (cm)=3.4, petal length (cm)=1.5, petal width (cm)=0.2),\n",
       " Row(sepal length (cm)=5.0, sepal width (cm)=3.5, petal length (cm)=1.3, petal width (cm)=0.3),\n",
       " Row(sepal length (cm)=4.5, sepal width (cm)=2.3, petal length (cm)=1.3, petal width (cm)=0.3),\n",
       " Row(sepal length (cm)=4.4, sepal width (cm)=3.2, petal length (cm)=1.3, petal width (cm)=0.2),\n",
       " Row(sepal length (cm)=5.0, sepal width (cm)=3.5, petal length (cm)=1.6, petal width (cm)=0.6),\n",
       " Row(sepal length (cm)=5.1, sepal width (cm)=3.8, petal length (cm)=1.9, petal width (cm)=0.4),\n",
       " Row(sepal length (cm)=4.8, sepal width (cm)=3.0, petal length (cm)=1.4, petal width (cm)=0.3),\n",
       " Row(sepal length (cm)=5.1, sepal width (cm)=3.8, petal length (cm)=1.6, petal width (cm)=0.2),\n",
       " Row(sepal length (cm)=4.6, sepal width (cm)=3.2, petal length (cm)=1.4, petal width (cm)=0.2),\n",
       " Row(sepal length (cm)=5.3, sepal width (cm)=3.7, petal length (cm)=1.5, petal width (cm)=0.2),\n",
       " Row(sepal length (cm)=5.0, sepal width (cm)=3.3, petal length (cm)=1.4, petal width (cm)=0.2),\n",
       " Row(sepal length (cm)=7.0, sepal width (cm)=3.2, petal length (cm)=4.7, petal width (cm)=1.4),\n",
       " Row(sepal length (cm)=6.4, sepal width (cm)=3.2, petal length (cm)=4.5, petal width (cm)=1.5),\n",
       " Row(sepal length (cm)=6.9, sepal width (cm)=3.1, petal length (cm)=4.9, petal width (cm)=1.5),\n",
       " Row(sepal length (cm)=5.5, sepal width (cm)=2.3, petal length (cm)=4.0, petal width (cm)=1.3),\n",
       " Row(sepal length (cm)=6.5, sepal width (cm)=2.8, petal length (cm)=4.6, petal width (cm)=1.5),\n",
       " Row(sepal length (cm)=5.7, sepal width (cm)=2.8, petal length (cm)=4.5, petal width (cm)=1.3),\n",
       " Row(sepal length (cm)=6.3, sepal width (cm)=3.3, petal length (cm)=4.7, petal width (cm)=1.6),\n",
       " Row(sepal length (cm)=4.9, sepal width (cm)=2.4, petal length (cm)=3.3, petal width (cm)=1.0),\n",
       " Row(sepal length (cm)=6.6, sepal width (cm)=2.9, petal length (cm)=4.6, petal width (cm)=1.3),\n",
       " Row(sepal length (cm)=5.2, sepal width (cm)=2.7, petal length (cm)=3.9, petal width (cm)=1.4),\n",
       " Row(sepal length (cm)=5.0, sepal width (cm)=2.0, petal length (cm)=3.5, petal width (cm)=1.0),\n",
       " Row(sepal length (cm)=5.9, sepal width (cm)=3.0, petal length (cm)=4.2, petal width (cm)=1.5),\n",
       " Row(sepal length (cm)=6.0, sepal width (cm)=2.2, petal length (cm)=4.0, petal width (cm)=1.0),\n",
       " Row(sepal length (cm)=6.1, sepal width (cm)=2.9, petal length (cm)=4.7, petal width (cm)=1.4),\n",
       " Row(sepal length (cm)=5.6, sepal width (cm)=2.9, petal length (cm)=3.6, petal width (cm)=1.3),\n",
       " Row(sepal length (cm)=6.7, sepal width (cm)=3.1, petal length (cm)=4.4, petal width (cm)=1.4),\n",
       " Row(sepal length (cm)=5.6, sepal width (cm)=3.0, petal length (cm)=4.5, petal width (cm)=1.5),\n",
       " Row(sepal length (cm)=5.8, sepal width (cm)=2.7, petal length (cm)=4.1, petal width (cm)=1.0),\n",
       " Row(sepal length (cm)=6.2, sepal width (cm)=2.2, petal length (cm)=4.5, petal width (cm)=1.5),\n",
       " Row(sepal length (cm)=5.6, sepal width (cm)=2.5, petal length (cm)=3.9, petal width (cm)=1.1),\n",
       " Row(sepal length (cm)=5.9, sepal width (cm)=3.2, petal length (cm)=4.8, petal width (cm)=1.8),\n",
       " Row(sepal length (cm)=6.1, sepal width (cm)=2.8, petal length (cm)=4.0, petal width (cm)=1.3),\n",
       " Row(sepal length (cm)=6.3, sepal width (cm)=2.5, petal length (cm)=4.9, petal width (cm)=1.5),\n",
       " Row(sepal length (cm)=6.1, sepal width (cm)=2.8, petal length (cm)=4.7, petal width (cm)=1.2),\n",
       " Row(sepal length (cm)=6.4, sepal width (cm)=2.9, petal length (cm)=4.3, petal width (cm)=1.3),\n",
       " Row(sepal length (cm)=6.6, sepal width (cm)=3.0, petal length (cm)=4.4, petal width (cm)=1.4),\n",
       " Row(sepal length (cm)=6.8, sepal width (cm)=2.8, petal length (cm)=4.8, petal width (cm)=1.4),\n",
       " Row(sepal length (cm)=6.7, sepal width (cm)=3.0, petal length (cm)=5.0, petal width (cm)=1.7),\n",
       " Row(sepal length (cm)=6.0, sepal width (cm)=2.9, petal length (cm)=4.5, petal width (cm)=1.5),\n",
       " Row(sepal length (cm)=5.7, sepal width (cm)=2.6, petal length (cm)=3.5, petal width (cm)=1.0),\n",
       " Row(sepal length (cm)=5.5, sepal width (cm)=2.4, petal length (cm)=3.8, petal width (cm)=1.1),\n",
       " Row(sepal length (cm)=5.5, sepal width (cm)=2.4, petal length (cm)=3.7, petal width (cm)=1.0),\n",
       " Row(sepal length (cm)=5.8, sepal width (cm)=2.7, petal length (cm)=3.9, petal width (cm)=1.2),\n",
       " Row(sepal length (cm)=6.0, sepal width (cm)=2.7, petal length (cm)=5.1, petal width (cm)=1.6),\n",
       " Row(sepal length (cm)=5.4, sepal width (cm)=3.0, petal length (cm)=4.5, petal width (cm)=1.5),\n",
       " Row(sepal length (cm)=6.0, sepal width (cm)=3.4, petal length (cm)=4.5, petal width (cm)=1.6),\n",
       " Row(sepal length (cm)=6.7, sepal width (cm)=3.1, petal length (cm)=4.7, petal width (cm)=1.5),\n",
       " Row(sepal length (cm)=6.3, sepal width (cm)=2.3, petal length (cm)=4.4, petal width (cm)=1.3),\n",
       " Row(sepal length (cm)=5.6, sepal width (cm)=3.0, petal length (cm)=4.1, petal width (cm)=1.3),\n",
       " Row(sepal length (cm)=5.5, sepal width (cm)=2.5, petal length (cm)=4.0, petal width (cm)=1.3),\n",
       " Row(sepal length (cm)=5.5, sepal width (cm)=2.6, petal length (cm)=4.4, petal width (cm)=1.2),\n",
       " Row(sepal length (cm)=6.1, sepal width (cm)=3.0, petal length (cm)=4.6, petal width (cm)=1.4),\n",
       " Row(sepal length (cm)=5.8, sepal width (cm)=2.6, petal length (cm)=4.0, petal width (cm)=1.2),\n",
       " Row(sepal length (cm)=5.0, sepal width (cm)=2.3, petal length (cm)=3.3, petal width (cm)=1.0),\n",
       " Row(sepal length (cm)=5.6, sepal width (cm)=2.7, petal length (cm)=4.2, petal width (cm)=1.3),\n",
       " Row(sepal length (cm)=5.7, sepal width (cm)=3.0, petal length (cm)=4.2, petal width (cm)=1.2),\n",
       " Row(sepal length (cm)=5.7, sepal width (cm)=2.9, petal length (cm)=4.2, petal width (cm)=1.3),\n",
       " Row(sepal length (cm)=6.2, sepal width (cm)=2.9, petal length (cm)=4.3, petal width (cm)=1.3),\n",
       " Row(sepal length (cm)=5.1, sepal width (cm)=2.5, petal length (cm)=3.0, petal width (cm)=1.1),\n",
       " Row(sepal length (cm)=5.7, sepal width (cm)=2.8, petal length (cm)=4.1, petal width (cm)=1.3),\n",
       " Row(sepal length (cm)=6.3, sepal width (cm)=3.3, petal length (cm)=6.0, petal width (cm)=2.5),\n",
       " Row(sepal length (cm)=5.8, sepal width (cm)=2.7, petal length (cm)=5.1, petal width (cm)=1.9),\n",
       " Row(sepal length (cm)=7.1, sepal width (cm)=3.0, petal length (cm)=5.9, petal width (cm)=2.1),\n",
       " Row(sepal length (cm)=6.3, sepal width (cm)=2.9, petal length (cm)=5.6, petal width (cm)=1.8),\n",
       " Row(sepal length (cm)=6.5, sepal width (cm)=3.0, petal length (cm)=5.8, petal width (cm)=2.2),\n",
       " Row(sepal length (cm)=7.6, sepal width (cm)=3.0, petal length (cm)=6.6, petal width (cm)=2.1),\n",
       " Row(sepal length (cm)=4.9, sepal width (cm)=2.5, petal length (cm)=4.5, petal width (cm)=1.7),\n",
       " Row(sepal length (cm)=7.3, sepal width (cm)=2.9, petal length (cm)=6.3, petal width (cm)=1.8),\n",
       " Row(sepal length (cm)=6.7, sepal width (cm)=2.5, petal length (cm)=5.8, petal width (cm)=1.8),\n",
       " Row(sepal length (cm)=7.2, sepal width (cm)=3.6, petal length (cm)=6.1, petal width (cm)=2.5),\n",
       " Row(sepal length (cm)=6.5, sepal width (cm)=3.2, petal length (cm)=5.1, petal width (cm)=2.0),\n",
       " Row(sepal length (cm)=6.4, sepal width (cm)=2.7, petal length (cm)=5.3, petal width (cm)=1.9),\n",
       " Row(sepal length (cm)=6.8, sepal width (cm)=3.0, petal length (cm)=5.5, petal width (cm)=2.1),\n",
       " Row(sepal length (cm)=5.7, sepal width (cm)=2.5, petal length (cm)=5.0, petal width (cm)=2.0),\n",
       " Row(sepal length (cm)=5.8, sepal width (cm)=2.8, petal length (cm)=5.1, petal width (cm)=2.4),\n",
       " Row(sepal length (cm)=6.4, sepal width (cm)=3.2, petal length (cm)=5.3, petal width (cm)=2.3),\n",
       " Row(sepal length (cm)=6.5, sepal width (cm)=3.0, petal length (cm)=5.5, petal width (cm)=1.8),\n",
       " Row(sepal length (cm)=7.7, sepal width (cm)=3.8, petal length (cm)=6.7, petal width (cm)=2.2),\n",
       " Row(sepal length (cm)=7.7, sepal width (cm)=2.6, petal length (cm)=6.9, petal width (cm)=2.3),\n",
       " Row(sepal length (cm)=6.0, sepal width (cm)=2.2, petal length (cm)=5.0, petal width (cm)=1.5),\n",
       " Row(sepal length (cm)=6.9, sepal width (cm)=3.2, petal length (cm)=5.7, petal width (cm)=2.3),\n",
       " Row(sepal length (cm)=5.6, sepal width (cm)=2.8, petal length (cm)=4.9, petal width (cm)=2.0),\n",
       " Row(sepal length (cm)=7.7, sepal width (cm)=2.8, petal length (cm)=6.7, petal width (cm)=2.0),\n",
       " Row(sepal length (cm)=6.3, sepal width (cm)=2.7, petal length (cm)=4.9, petal width (cm)=1.8),\n",
       " Row(sepal length (cm)=6.7, sepal width (cm)=3.3, petal length (cm)=5.7, petal width (cm)=2.1),\n",
       " Row(sepal length (cm)=7.2, sepal width (cm)=3.2, petal length (cm)=6.0, petal width (cm)=1.8),\n",
       " Row(sepal length (cm)=6.2, sepal width (cm)=2.8, petal length (cm)=4.8, petal width (cm)=1.8),\n",
       " Row(sepal length (cm)=6.1, sepal width (cm)=3.0, petal length (cm)=4.9, petal width (cm)=1.8),\n",
       " Row(sepal length (cm)=6.4, sepal width (cm)=2.8, petal length (cm)=5.6, petal width (cm)=2.1),\n",
       " Row(sepal length (cm)=7.2, sepal width (cm)=3.0, petal length (cm)=5.8, petal width (cm)=1.6),\n",
       " Row(sepal length (cm)=7.4, sepal width (cm)=2.8, petal length (cm)=6.1, petal width (cm)=1.9),\n",
       " Row(sepal length (cm)=7.9, sepal width (cm)=3.8, petal length (cm)=6.4, petal width (cm)=2.0),\n",
       " Row(sepal length (cm)=6.4, sepal width (cm)=2.8, petal length (cm)=5.6, petal width (cm)=2.2),\n",
       " Row(sepal length (cm)=6.3, sepal width (cm)=2.8, petal length (cm)=5.1, petal width (cm)=1.5),\n",
       " Row(sepal length (cm)=6.1, sepal width (cm)=2.6, petal length (cm)=5.6, petal width (cm)=1.4),\n",
       " Row(sepal length (cm)=7.7, sepal width (cm)=3.0, petal length (cm)=6.1, petal width (cm)=2.3),\n",
       " Row(sepal length (cm)=6.3, sepal width (cm)=3.4, petal length (cm)=5.6, petal width (cm)=2.4),\n",
       " Row(sepal length (cm)=6.4, sepal width (cm)=3.1, petal length (cm)=5.5, petal width (cm)=1.8),\n",
       " Row(sepal length (cm)=6.0, sepal width (cm)=3.0, petal length (cm)=4.8, petal width (cm)=1.8),\n",
       " Row(sepal length (cm)=6.9, sepal width (cm)=3.1, petal length (cm)=5.4, petal width (cm)=2.1),\n",
       " Row(sepal length (cm)=6.7, sepal width (cm)=3.1, petal length (cm)=5.6, petal width (cm)=2.4),\n",
       " Row(sepal length (cm)=6.9, sepal width (cm)=3.1, petal length (cm)=5.1, petal width (cm)=2.3),\n",
       " Row(sepal length (cm)=5.8, sepal width (cm)=2.7, petal length (cm)=5.1, petal width (cm)=1.9),\n",
       " Row(sepal length (cm)=6.8, sepal width (cm)=3.2, petal length (cm)=5.9, petal width (cm)=2.3),\n",
       " Row(sepal length (cm)=6.7, sepal width (cm)=3.3, petal length (cm)=5.7, petal width (cm)=2.5),\n",
       " Row(sepal length (cm)=6.7, sepal width (cm)=3.0, petal length (cm)=5.2, petal width (cm)=2.3),\n",
       " Row(sepal length (cm)=6.3, sepal width (cm)=2.5, petal length (cm)=5.0, petal width (cm)=1.9),\n",
       " Row(sepal length (cm)=6.5, sepal width (cm)=3.0, petal length (cm)=5.2, petal width (cm)=2.0),\n",
       " Row(sepal length (cm)=6.2, sepal width (cm)=3.4, petal length (cm)=5.4, petal width (cm)=2.3),\n",
       " Row(sepal length (cm)=5.9, sepal width (cm)=3.0, petal length (cm)=5.1, petal width (cm)=1.8)]"
      ]
     },
     "execution_count": 35,
     "metadata": {},
     "output_type": "execute_result"
    }
   ],
   "source": [
    "sdf.collect()"
   ]
  },
  {
   "cell_type": "code",
   "execution_count": 45,
   "metadata": {},
   "outputs": [
    {
     "name": "stdout",
     "output_type": "stream",
     "text": [
      "+-----------------+----------------+-----------------+----------------+\n",
      "|sepal length (cm)|sepal width (cm)|petal length (cm)|petal width (cm)|\n",
      "+-----------------+----------------+-----------------+----------------+\n",
      "|              5.7|             4.4|              1.5|             0.4|\n",
      "|              5.2|             4.1|              1.5|             0.1|\n",
      "|              4.9|             3.1|              1.5|             0.1|\n",
      "|              5.0|             2.3|              3.3|             1.0|\n",
      "|              6.3|             2.9|              5.6|             1.8|\n",
      "|              6.7|             3.3|              5.7|             2.1|\n",
      "+-----------------+----------------+-----------------+----------------+\n",
      "\n"
     ]
    }
   ],
   "source": [
    "sdf.sample(False,5/sdf.count()).show()"
   ]
  },
  {
   "cell_type": "code",
   "execution_count": 49,
   "metadata": {
    "scrolled": true
   },
   "outputs": [
    {
     "name": "stdout",
     "output_type": "stream",
     "text": [
      "+-----------------+----------------+-----------------+----------------+-------------------+\n",
      "|sepal length (cm)|sepal width (cm)|petal length (cm)|petal width (cm)|             target|\n",
      "+-----------------+----------------+-----------------+----------------+-------------------+\n",
      "|              5.1|             3.5|              1.4|             0.2| 0.7000000000000001|\n",
      "|              4.9|             3.0|              1.4|             0.2| 0.6000000000000001|\n",
      "|              4.7|             3.2|              1.3|             0.2| 0.6400000000000001|\n",
      "|              4.6|             3.1|              1.5|             0.2| 0.6200000000000001|\n",
      "|              5.0|             3.6|              1.4|             0.2| 0.7200000000000001|\n",
      "|              5.4|             3.9|              1.7|             0.4|               1.56|\n",
      "|              4.6|             3.4|              1.4|             0.3|               1.02|\n",
      "|              5.0|             3.4|              1.5|             0.2|               0.68|\n",
      "|              4.4|             2.9|              1.4|             0.2|               0.58|\n",
      "|              4.9|             3.1|              1.5|             0.1|0.31000000000000005|\n",
      "|              5.4|             3.7|              1.5|             0.2| 0.7400000000000001|\n",
      "|              4.8|             3.4|              1.6|             0.2|               0.68|\n",
      "|              4.8|             3.0|              1.4|             0.1|0.30000000000000004|\n",
      "|              4.3|             3.0|              1.1|             0.1|0.30000000000000004|\n",
      "|              5.8|             4.0|              1.2|             0.2|                0.8|\n",
      "|              5.7|             4.4|              1.5|             0.4| 1.7600000000000002|\n",
      "|              5.4|             3.9|              1.3|             0.4|               1.56|\n",
      "|              5.1|             3.5|              1.4|             0.3|               1.05|\n",
      "|              5.7|             3.8|              1.7|             0.3|               1.14|\n",
      "|              5.1|             3.8|              1.5|             0.3|               1.14|\n",
      "+-----------------+----------------+-----------------+----------------+-------------------+\n",
      "only showing top 20 rows\n",
      "\n"
     ]
    }
   ],
   "source": [
    "sdf.withColumn('target',sdf['sepal width (cm)']*sdf['petal width (cm)']).show()"
   ]
  },
  {
   "cell_type": "code",
   "execution_count": null,
   "metadata": {},
   "outputs": [],
   "source": []
  },
  {
   "cell_type": "code",
   "execution_count": 50,
   "metadata": {},
   "outputs": [
    {
     "ename": "NameError",
     "evalue": "name 'sc' is not defined",
     "output_type": "error",
     "traceback": [
      "\u001b[1;31m---------------------------------------------------------------------------\u001b[0m",
      "\u001b[1;31mNameError\u001b[0m                                 Traceback (most recent call last)",
      "\u001b[1;32m<ipython-input-50-f5207ea445fd>\u001b[0m in \u001b[0;36m<module>\u001b[1;34m()\u001b[0m\n\u001b[1;32m----> 1\u001b[1;33m rdd = sc.parallelize([\n\u001b[0m\u001b[0;32m      2\u001b[0m   \u001b[1;33m(\u001b[0m\u001b[1;34m'Alice'\u001b[0m\u001b[1;33m,\u001b[0m \u001b[1;36m20\u001b[0m\u001b[1;33m)\u001b[0m\u001b[1;33m,\u001b[0m\u001b[1;33m\u001b[0m\u001b[0m\n\u001b[0;32m      3\u001b[0m   \u001b[1;33m(\u001b[0m\u001b[1;34m'Bob'\u001b[0m\u001b[1;33m,\u001b[0m \u001b[1;36m25\u001b[0m\u001b[1;33m)\u001b[0m\u001b[1;33m,\u001b[0m\u001b[1;33m\u001b[0m\u001b[0m\n\u001b[0;32m      4\u001b[0m   \u001b[1;33m(\u001b[0m\u001b[1;34m'Carol'\u001b[0m\u001b[1;33m,\u001b[0m \u001b[1;36m30\u001b[0m\u001b[1;33m)\u001b[0m\u001b[1;33m,\u001b[0m\u001b[1;33m\u001b[0m\u001b[0m\n\u001b[0;32m      5\u001b[0m   \u001b[1;33m(\u001b[0m\u001b[1;34m'Daniel'\u001b[0m\u001b[1;33m,\u001b[0m \u001b[1;36m30\u001b[0m\u001b[1;33m)\u001b[0m\u001b[1;33m,\u001b[0m\u001b[1;33m\u001b[0m\u001b[0m\n",
      "\u001b[1;31mNameError\u001b[0m: name 'sc' is not defined"
     ]
    }
   ],
   "source": [
    "rdd = sc.parallelize([\n",
    "  ('Alice', 20),\n",
    "  ('Bob', 25),\n",
    "  ('Carol', 30),\n",
    "  ('Daniel', 30),\n",
    " ])"
   ]
  },
  {
   "cell_type": "code",
   "execution_count": null,
   "metadata": {},
   "outputs": [],
   "source": []
  },
  {
   "cell_type": "code",
   "execution_count": null,
   "metadata": {},
   "outputs": [],
   "source": []
  },
  {
   "cell_type": "code",
   "execution_count": null,
   "metadata": {},
   "outputs": [],
   "source": []
  },
  {
   "cell_type": "code",
   "execution_count": null,
   "metadata": {},
   "outputs": [],
   "source": []
  },
  {
   "cell_type": "code",
   "execution_count": null,
   "metadata": {},
   "outputs": [],
   "source": []
  }
 ],
 "metadata": {
  "kernelspec": {
   "display_name": "Python 3",
   "language": "python",
   "name": "python3"
  },
  "language_info": {
   "codemirror_mode": {
    "name": "ipython",
    "version": 3
   },
   "file_extension": ".py",
   "mimetype": "text/x-python",
   "name": "python",
   "nbconvert_exporter": "python",
   "pygments_lexer": "ipython3",
   "version": "3.6.5"
  }
 },
 "nbformat": 4,
 "nbformat_minor": 2
}
