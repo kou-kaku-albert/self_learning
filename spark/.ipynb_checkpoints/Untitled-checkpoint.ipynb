{
 "cells": [
  {
   "cell_type": "code",
   "execution_count": 9,
   "metadata": {},
   "outputs": [],
   "source": [
    "import math\n",
    "import numpy as np\n",
    "import os\n",
    "import keras\n",
    "from keras.datasets import mnist\n",
    "from keras.optimizers import Adam\n",
    "from PIL import Image\n"
   ]
  },
  {
   "cell_type": "code",
   "execution_count": 10,
   "metadata": {},
   "outputs": [],
   "source": [
    "def Generator():\n",
    "    act = keras.layers.advanced_activations.LeakyReLU(alpha=0.2)\n",
    "    Gen = Sequential()\n",
    "    Gen.add(Dense(input_dim=100, units=256, kernel_regularizer=l1_l2(1e-5, 1e-5)))\n",
    "    Gen.add(BatchNormalization(mode=0))\n",
    "    Gen.add(act)\n",
    "    Gen.add(Dense(units=512, kernel_regularizer=l1_l2(1e-5, 1e-5)))\n",
    "    Gen.add(BatchNormalization(mode=0))\n",
    "    Gen.add(act)\n",
    "    Gen.add(Dense(units=1024, kernel_regularizer=l1_l2(1e-5, 1e-5)))\n",
    "    Gen.add(BatchNormalization(mode=0))\n",
    "    Gen.add(act)\n",
    "    Gen.add(Dense(units=28*28, kernel_regularizer=l1_l2(1e-5, 1e-5)))\n",
    "    Gen.add(BatchNormalization(mode=0))\n",
    "    Gen.add(Activation(\"sigmoid\"))\n",
    "    generator_optimizer = SGD(lr=0.1, momentum=0.3, decay=1e-5)\n",
    "    # Generatorは単独で訓練しないので下のcompileはいらない\n",
    "    Gen.compile(loss=\"binary_crossentropy\", optimizer=generator_optimizer)\n",
    "    return Gen\n",
    "\n",
    "def Discriminator():\n",
    "    act = keras.layers.advanced_activations.LeakyReLU(alpha=0.2)\n",
    "    Dis = Sequential()\n",
    "    Dis.add(Dense(input_dim=784, units=1024, kernel_regularizer=l1_l2(1e-5, 1e-5)))\n",
    "    Dis.add(act)\n",
    "    Dis.add(Dense(units=512, kernel_regularizer=l1_l2(1e-5, 1e-5)))\n",
    "    Dis.add(act)\n",
    "    Dis.add(Dense(units=256, kernel_regularizer=l1_l2(1e-5, 1e-5)))\n",
    "    Dis.add(act)\n",
    "    Dis.add(Dense(units=1, kernel_regularizer=l1_l2(1e-5, 1e-5)))\n",
    "    Dis.add(Activation(\"sigmoid\"))\n",
    "    discriminator_optimizer = SGD(lr=0.1, momentum=0.1, decay=1e-5)\n",
    "    Dis.compile(loss=\"binary_crossentropy\", optimizer=discriminator_optimizer)\n",
    "    return Dis\n",
    "\n",
    "def Generative_Adversarial_Network(generator_model, discriminator_model):\n",
    "    GAN = Sequential()\n",
    "    GAN.add(generator_model)\n",
    "    discriminator_model.trainable=False\n",
    "    GAN.add(discriminator_model)\n",
    "    gan_optimizer = SGD(0.1, momentum=0.3)\n",
    "    GAN.compile(loss=\"binary_crossentropy\", optimizer=gan_optimizer)\n",
    "    return GAN"
   ]
  },
  {
   "cell_type": "code",
   "execution_count": 11,
   "metadata": {},
   "outputs": [
    {
     "ename": "NameError",
     "evalue": "name 'Sequential' is not defined",
     "output_type": "error",
     "traceback": [
      "\u001b[1;31m---------------------------------------------------------------------------\u001b[0m",
      "\u001b[1;31mNameError\u001b[0m                                 Traceback (most recent call last)",
      "\u001b[1;32m<ipython-input-11-61125e21a8b6>\u001b[0m in \u001b[0;36m<module>\u001b[1;34m()\u001b[0m\n\u001b[1;32m----> 1\u001b[1;33m \u001b[0mGenerative_Adversarial_Network\u001b[0m\u001b[1;33m(\u001b[0m\u001b[0mGenerator\u001b[0m\u001b[1;33m(\u001b[0m\u001b[1;33m)\u001b[0m\u001b[1;33m,\u001b[0m\u001b[0mDiscriminator\u001b[0m\u001b[1;33m(\u001b[0m\u001b[1;33m)\u001b[0m\u001b[1;33m)\u001b[0m\u001b[1;33m\u001b[0m\u001b[0m\n\u001b[0m",
      "\u001b[1;32m<ipython-input-10-55752603e194>\u001b[0m in \u001b[0;36mGenerator\u001b[1;34m()\u001b[0m\n\u001b[0;32m      1\u001b[0m \u001b[1;32mdef\u001b[0m \u001b[0mGenerator\u001b[0m\u001b[1;33m(\u001b[0m\u001b[1;33m)\u001b[0m\u001b[1;33m:\u001b[0m\u001b[1;33m\u001b[0m\u001b[0m\n\u001b[0;32m      2\u001b[0m     \u001b[0mact\u001b[0m \u001b[1;33m=\u001b[0m \u001b[0mkeras\u001b[0m\u001b[1;33m.\u001b[0m\u001b[0mlayers\u001b[0m\u001b[1;33m.\u001b[0m\u001b[0madvanced_activations\u001b[0m\u001b[1;33m.\u001b[0m\u001b[0mLeakyReLU\u001b[0m\u001b[1;33m(\u001b[0m\u001b[0malpha\u001b[0m\u001b[1;33m=\u001b[0m\u001b[1;36m0.2\u001b[0m\u001b[1;33m)\u001b[0m\u001b[1;33m\u001b[0m\u001b[0m\n\u001b[1;32m----> 3\u001b[1;33m     \u001b[0mGen\u001b[0m \u001b[1;33m=\u001b[0m \u001b[0mSequential\u001b[0m\u001b[1;33m(\u001b[0m\u001b[1;33m)\u001b[0m\u001b[1;33m\u001b[0m\u001b[0m\n\u001b[0m\u001b[0;32m      4\u001b[0m     \u001b[0mGen\u001b[0m\u001b[1;33m.\u001b[0m\u001b[0madd\u001b[0m\u001b[1;33m(\u001b[0m\u001b[0mDense\u001b[0m\u001b[1;33m(\u001b[0m\u001b[0minput_dim\u001b[0m\u001b[1;33m=\u001b[0m\u001b[1;36m100\u001b[0m\u001b[1;33m,\u001b[0m \u001b[0munits\u001b[0m\u001b[1;33m=\u001b[0m\u001b[1;36m256\u001b[0m\u001b[1;33m,\u001b[0m \u001b[0mkernel_regularizer\u001b[0m\u001b[1;33m=\u001b[0m\u001b[0ml1_l2\u001b[0m\u001b[1;33m(\u001b[0m\u001b[1;36m1e-5\u001b[0m\u001b[1;33m,\u001b[0m \u001b[1;36m1e-5\u001b[0m\u001b[1;33m)\u001b[0m\u001b[1;33m)\u001b[0m\u001b[1;33m)\u001b[0m\u001b[1;33m\u001b[0m\u001b[0m\n\u001b[0;32m      5\u001b[0m     \u001b[0mGen\u001b[0m\u001b[1;33m.\u001b[0m\u001b[0madd\u001b[0m\u001b[1;33m(\u001b[0m\u001b[0mBatchNormalization\u001b[0m\u001b[1;33m(\u001b[0m\u001b[0mmode\u001b[0m\u001b[1;33m=\u001b[0m\u001b[1;36m0\u001b[0m\u001b[1;33m)\u001b[0m\u001b[1;33m)\u001b[0m\u001b[1;33m\u001b[0m\u001b[0m\n",
      "\u001b[1;31mNameError\u001b[0m: name 'Sequential' is not defined"
     ]
    }
   ],
   "source": [
    "Generative_Adversarial_Network(Generator(),Discriminator())"
   ]
  },
  {
   "cell_type": "code",
   "execution_count": null,
   "metadata": {},
   "outputs": [],
   "source": []
  }
 ],
 "metadata": {
  "kernelspec": {
   "display_name": "Python 3",
   "language": "python",
   "name": "python3"
  },
  "language_info": {
   "codemirror_mode": {
    "name": "ipython",
    "version": 3
   },
   "file_extension": ".py",
   "mimetype": "text/x-python",
   "name": "python",
   "nbconvert_exporter": "python",
   "pygments_lexer": "ipython3",
   "version": "3.6.5"
  }
 },
 "nbformat": 4,
 "nbformat_minor": 2
}
