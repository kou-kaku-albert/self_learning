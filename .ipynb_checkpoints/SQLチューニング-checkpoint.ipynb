{
 "cells": [
  {
   "cell_type": "markdown",
   "metadata": {},
   "source": [
    "# SQLチューニング  \n",
    "この記事をピックアップした理由  \n",
    "データサイエンス協会のスキルシートに、  \n",
    "「\n",
    "記述したSQLの実行計画の確認と判断ができ、SQLの修正やインデックス作成により、処理時間を大幅に改善するようなパフォーマンスチューニングができる\n",
    "」  \n",
    "というのがあり、  \n",
    "SQLのチューニングはまだ未経験で、  \n",
    "キャッチアップします"
   ]
  },
  {
   "cell_type": "markdown",
   "metadata": {},
   "source": [
    "http://www.geocities.jp/mickindex/database/db_optimize.html"
   ]
  },
  {
   "cell_type": "markdown",
   "metadata": {},
   "source": [
    "1、inよりexists"
   ]
  },
  {
   "cell_type": "markdown",
   "metadata": {},
   "source": [
    "  使用テーブル：\n",
    "      Personnel(社員テーブル)\n",
    "      Celebrities(有名人テーブル)\n",
    "\n",
    "    --１．遅い\n",
    "    SELECT  name\n",
    "    FROM    Personnel\n",
    "    WHERE   birthday IN (SELECT  birthday\n",
    "                           FROM     Celebrities);\n",
    "\n",
    "    --２．速い\n",
    "    SELECT  P.name\n",
    "    FROM    Personnel AS P\n",
    "    WHERE   EXISTS   (SELECT\n",
    "                      FROM Clelebrities AS C\n",
    "                      WHERE P.birthday = C.birthday);"
   ]
  },
  {
   "cell_type": "markdown",
   "metadata": {},
   "source": [
    "2、between 使えば使う（見た目がいい）"
   ]
  },
  {
   "cell_type": "markdown",
   "metadata": {},
   "source": [
    "3、existsを使う場合、1がいい、\n",
    "１．EXISTS (SELECT * FROM …)  \n",
    "２．EXISTS (SELECT 列名 FROM …)  \n",
    "３．EXISTS (SELECT 定数 FROM …)  \n",
    "オプティマイザにどの列を使うべきかの選択を委ねることになります"
   ]
  },
  {
   "cell_type": "markdown",
   "metadata": {},
   "source": [
    "4、行数を数えるときは COUNT(*) よりも COUNT(列名) を使う"
   ]
  },
  {
   "cell_type": "markdown",
   "metadata": {},
   "source": [
    "5、  \n",
    "極値関数(max min)でインデックスを利用する  \n",
    "GROUP BY でインデックスを利用する  \n",
    "ORDER BY でインデックスを利用する  "
   ]
  },
  {
   "cell_type": "markdown",
   "metadata": {},
   "source": [
    "6、UNION、INTERSECT、EXCEPT には ALL を付ける  \n",
    "重複排除よりとにかく、くっつける  "
   ]
  },
  {
   "cell_type": "markdown",
   "metadata": {},
   "source": [
    "7、アスタリスク　できれば使わない"
   ]
  },
  {
   "cell_type": "markdown",
   "metadata": {},
   "source": [
    "8、  \n",
    "SELECT col_1, col2 FROM SomeTable ORDER BY 1, 2;  \n",
    "というのがあるんですが、右の1、2、は列番号です。  \n",
    "できれば列番号は使わないほうがいい  "
   ]
  },
  {
   "cell_type": "markdown",
   "metadata": {},
   "source": [
    "9、  \n",
    "× SELECT col_1 FROM SomeTable WHERE col_1 = 10;  \n",
    "○ SELECT col_1 FROM SomeTable WHERE col_1 = '10';  \n",
    "col_1 そのまま10入力しても、文字列になるが、'10'のほうが絶対いいい"
   ]
  },
  {
   "cell_type": "markdown",
   "metadata": {},
   "source": [
    "10、  \n",
    "IN 述語の引数リストには、最もありそうなキーを左寄せする  \n",
    "（個人的にどうでもいいと思います） \n",
    "\n",
    "    --１．遅い(かもしれない)\n",
    "    SELECT *\n",
    "      FROM  Address  \n",
    "     WHERE prefecture IN ('鳥取', '徳島', '東京', '大阪');\n",
    "\n",
    "    --２．速い(かもしれない)\n",
    "    SELECT *\n",
    "      FROM  Address  \n",
    "     WHERE prefecture IN ('東京', '大阪', '鳥取', '徳島');"
   ]
  },
  {
   "cell_type": "markdown",
   "metadata": {},
   "source": [
    "11、ビューを濫用してはいけません"
   ]
  }
 ],
 "metadata": {
  "kernelspec": {
   "display_name": "Python 3",
   "language": "python",
   "name": "python3"
  },
  "language_info": {
   "codemirror_mode": {
    "name": "ipython",
    "version": 3
   },
   "file_extension": ".py",
   "mimetype": "text/x-python",
   "name": "python",
   "nbconvert_exporter": "python",
   "pygments_lexer": "ipython3",
   "version": "3.6.5"
  }
 },
 "nbformat": 4,
 "nbformat_minor": 2
}
